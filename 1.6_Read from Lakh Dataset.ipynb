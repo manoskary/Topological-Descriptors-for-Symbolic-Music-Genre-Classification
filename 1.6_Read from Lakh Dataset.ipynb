{
 "cells": [
  {
   "cell_type": "markdown",
   "metadata": {},
   "source": [
    "This notebook reads from the **Lakh Dataset**, computes descriptors and statistics on MIDI files and creates grakel graphs based on trajectories. We use the **MSD_aligned** file from the Lakh dataset with aligned entries from the million song dataset. We also use the h5 files with information about the files, i.e. title, artist, style, etc. The file with the h5 is the **MSD_metadata** from the Lakh Dataset. One can also use the original mp3 files from the Million Dollar Dataset to compute more audio statistics."
   ]
  },
  {
   "cell_type": "code",
   "execution_count": null,
   "metadata": {},
   "outputs": [],
   "source": [
    "# Imports\n",
    "import numpy as np\n",
    "import matplotlib.pyplot as plt\n",
    "%matplotlib inline\n",
    "import pretty_midi\n",
    "import librosa\n",
    "import mir_eval\n",
    "import mir_eval.display\n",
    "import tables\n",
    "import IPython.display\n",
    "import os\n",
    "import json\n",
    "\n",
    "import pretty_midi\n",
    "import joblib\n",
    "import glob\n",
    "import matplotlib.pyplot as plt\n",
    "%matplotlib inline\n",
    "import collections"
   ]
  },
  {
   "cell_type": "code",
   "execution_count": null,
   "metadata": {},
   "outputs": [],
   "source": [
    "# Local path constants\n",
    "DATA_PATH = 'data'\n",
    "RESULTS_PATH = 'results'\n",
    "# Path to the file match_scores.json distributed with the LMD\n",
    "SCORE_FILE = os.path.join(RESULTS_PATH, 'match_scores.json')\n",
    "\n",
    "# Utility functions for retrieving paths\n",
    "def msd_id_to_dirs(msd_id):\n",
    "    \"\"\"Given an MSD ID, generate the path prefix.\n",
    "    E.g. TRABCD12345678 -> A/B/C/TRABCD12345678\"\"\"\n",
    "    return os.path.join(msd_id[2], msd_id[3], msd_id[4], msd_id)\n",
    "\n",
    "def msd_id_to_mp3(msd_id):\n",
    "    \"\"\"Given an MSD ID, return the path to the corresponding mp3\"\"\"\n",
    "    return os.path.join(DATA_PATH, 'msd', 'mp3',\n",
    "                        msd_id_to_dirs(msd_id) + '.mp3')\n",
    "\n",
    "def msd_id_to_h5(h5):\n",
    "    \"\"\"Given an MSD ID, return the path to the corresponding h5\"\"\"\n",
    "    return os.path.join(RESULTS_PATH, 'lmd_matched_h5',\n",
    "                        msd_id_to_dirs(msd_id) + '.h5')\n",
    "\n",
    "def get_midi_path(msd_id, midi_md5, kind):\n",
    "    \"\"\"Given an MSD ID and MIDI MD5, return path to a MIDI file.\n",
    "    kind should be one of 'matched' or 'aligned'. \"\"\"\n",
    "    return os.path.join(RESULTS_PATH, 'lmd_{}'.format(kind),\n",
    "                        msd_id_to_dirs(msd_id), midi_md5 + '.mid')"
   ]
  },
  {
   "cell_type": "markdown",
   "metadata": {},
   "source": [
    "### Extracting General Statistics"
   ]
  },
  {
   "cell_type": "code",
   "execution_count": null,
   "metadata": {},
   "outputs": [],
   "source": [
    "def compute_statistics(midi_file):\n",
    "    \"\"\"\n",
    "    Given a path to a MIDI file, compute a dictionary of statistics about it\n",
    "    \n",
    "    Parameters\n",
    "    ----------\n",
    "    midi_file : str\n",
    "        Path to a MIDI file.\n",
    "    \n",
    "    Returns\n",
    "    -------\n",
    "    statistics : dict\n",
    "        Dictionary reporting the values for different events in the file.\n",
    "    \"\"\"\n",
    "    # Some MIDI files will raise Exceptions on loading, if they are invalid.\n",
    "    # We just skip those.\n",
    "    try:\n",
    "        pm = pretty_midi.PrettyMIDI(midi_file)\n",
    "        # Extract informative events from the MIDI file\n",
    "        return {'n_instruments': len(pm.instruments),\n",
    "                'program_numbers': [i.program for i in pm.instruments if not i.is_drum],\n",
    "                'key_numbers': [k.key_number for k in pm.key_signature_changes],\n",
    "                'tempos': list(pm.get_tempo_changes()[1]),\n",
    "                'time_signature_changes': pm.time_signature_changes,\n",
    "                'end_time': pm.get_end_time(),\n",
    "                'lyrics': [l.text for l in pm.lyrics]}\n",
    "    # Silently ignore exceptions for a clean presentation (sorry Python!)\n",
    "    except Exception as e:\n",
    "        pass"
   ]
  },
  {
   "cell_type": "code",
   "execution_count": null,
   "metadata": {},
   "outputs": [],
   "source": [
    "# Compute statistics about every file in our collection in parallel using joblib\n",
    "# We do things in parallel because there are tons so it would otherwise take too long!\n",
    "statistics = joblib.Parallel(n_jobs=10, verbose=0)(\n",
    "    joblib.delayed(compute_statistics)(midi_file)\n",
    "    for midi_file in glob.glob(os.path.join('data', 'lmd_full', '*', '*.mid')))\n",
    "# When an error occurred, None will be returned; filter those out.\n",
    "statistics = [s for s in statistics if s is not None]"
   ]
  }
 ],
 "metadata": {
  "kernelspec": {
   "display_name": "Python 3",
   "language": "python",
   "name": "python3"
  },
  "language_info": {
   "codemirror_mode": {
    "name": "ipython",
    "version": 3
   },
   "file_extension": ".py",
   "mimetype": "text/x-python",
   "name": "python",
   "nbconvert_exporter": "python",
   "pygments_lexer": "ipython3",
   "version": "3.8.2"
  }
 },
 "nbformat": 4,
 "nbformat_minor": 2
}
