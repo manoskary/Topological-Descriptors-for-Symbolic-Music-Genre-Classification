{
 "cells": [
  {
   "cell_type": "markdown",
   "metadata": {},
   "source": [
    "## Load our own descriptors from the Lakh Dataset and perform Classification with scikit-learn\n",
    "\n",
    "\n"
   ]
  },
  {
   "cell_type": "code",
   "execution_count": 4,
   "metadata": {},
   "outputs": [],
   "source": [
    "# Imports\n",
    "import numpy as np\n",
    "import matplotlib.pyplot as plt\n",
    "import pretty_midi\n",
    "# import librosa\n",
    "import mir_eval\n",
    "import mir_eval.display\n",
    "import tables\n",
    "import IPython.display\n",
    "import os\n",
    "import json\n",
    "from tqdm import tqdm\n",
    "import pickle\n",
    "\n",
    "# Local path constants\n",
    "DATA_PATH = 'data'\n",
    "RESULTS_PATH = 'results'\n",
    "# Path to the file match_scores.json distributed with the LMD\n",
    "SCORE_FILE = os.path.join(RESULTS_PATH, 'match_scores.json')\n",
    "LABELS_FILE = os.path.join(RESULTS_PATH, 'MAGD.json')\n",
    "# The Tonnetze used for graph generation\n",
    "TONNETZEDICT = {'T129': [1, 2, 9], 'T147': [1, 4, 7], 'T237': [2, 3, 7], 'T345': [3, 4, 5]}\n",
    "# Define the labels we want to find (we can add or remove)\n",
    "# LABELS = [\"classic\", \"rock\", \"pop\", \"folk\", \"metal\", \"jazz\", \"disco\"]\n",
    "# labels for the Top-MAGD annotation\n",
    "# LABELS = [\"Pop_Rock\", \"Electronic\", \"Rap\", \"Jazz\", \"Latin\", \"RnB\", \"International\", \"Country\", \"Reggae\", \"Blues\", \"Vocal\", \"Folk\", \"New Age\"]\n",
    "# labels for the MAGD annotation\n",
    "LABELS = [\"Pop_Rock\", \"Electronic\", \"Rap\", \"Jazz\", \"Latin\", \"RnB\", \"International\", \"Country\", \n",
    "          \"Religious\", \"Reggae\", \"Blues\", \"Vocal\", \"Folk\", \"New Age\", \"Comedy_Spoken\", \"Stage\",\n",
    "          \"Easy_Listening\", \"Avant_Garde\", \"Classical\", \"Childrens\", \"Holiday\" ]\n",
    "\n",
    "\n",
    "# Utility functions for retrieving paths\n",
    "def msd_id_to_dirs(msd_id):\n",
    "    \"\"\"Given an MSD ID, generate the path prefix.\n",
    "    E.g. TRABCD12345678 -> A/B/C/TRABCD12345678\"\"\"\n",
    "    return os.path.join(msd_id[2], msd_id[3], msd_id[4], msd_id)\n",
    "\n",
    "def msd_id_to_mp3(msd_id):\n",
    "    \"\"\"Given an MSD ID, return the path to the corresponding mp3\"\"\"\n",
    "    return os.path.join(DATA_PATH, 'msd', 'mp3',\n",
    "                        msd_id_to_dirs(msd_id) + '.mp3')\n",
    "\n",
    "def msd_id_to_h5(h5):\n",
    "    \"\"\"Given an MSD ID, return the path to the corresponding h5\"\"\"\n",
    "    return os.path.join(RESULTS_PATH, 'lmd_matched_h5',\n",
    "                        msd_id_to_dirs(msd_id) + '.h5')\n",
    "\n",
    "def get_midi_path(msd_id, midi_md5, kind):\n",
    "    \"\"\"Given an MSD ID and MIDI MD5, return path to a MIDI file.\n",
    "    kind should be one of 'matched' or 'aligned'. \"\"\"\n",
    "    return os.path.join(RESULTS_PATH, 'lmd_{}'.format(kind),\n",
    "                        msd_id_to_dirs(msd_id), midi_md5 + '.mid')"
   ]
  },
  {
   "cell_type": "markdown",
   "metadata": {},
   "source": [
    "# Classification\n",
    "\n",
    "## Single Graph Method\n",
    "\n",
    "##### We try a graph kernel method by first reading the Data"
   ]
  },
  {
   "cell_type": "code",
   "execution_count": 26,
   "metadata": {},
   "outputs": [
    {
     "name": "stderr",
     "output_type": "stream",
     "text": [
      "100%|██████████████████████████████████████████████████████████████████████████| 31034/31034 [00:05<00:00, 5858.23it/s]\n"
     ]
    }
   ],
   "source": [
    "# Debugger\n",
    "from IPython.core.debugger import set_trace\n",
    "\n",
    "# Set the desirable Tonnetz\n",
    "Tonnetz = \"T345\"\n",
    "\n",
    "\n",
    "with open(SCORE_FILE) as f:\n",
    "    # The json SCORE_FILE is a dict of ids from Million Dollar\n",
    "    scores = json.load(f)\n",
    "with open(LABELS_FILE) as l:\n",
    "    labels = json.load(l)\n",
    "y = list()\n",
    "G = list()\n",
    "for msd_id in tqdm(scores.keys()):\n",
    "    # open every directory with midi files and save file dir to var msd_dir\n",
    "    msd_dir = msd_id_to_dirs(msd_id)\n",
    "    # add the directory where graphs where saved\n",
    "    graph_directory =  os.path.join(RESULTS_PATH, \"lmd_graphs\", msd_dir)\n",
    "    # first check if the directory isn't empty and that the msd id is included in the Top-MAGD annotation set\n",
    "    if msd_id in labels.keys() and os.listdir(graph_directory):\n",
    "        for file in os.listdir(graph_directory):\n",
    "            if file.endswith(Tonnetz+\".p\"):\n",
    "                # load descruptors and labels\n",
    "                yi = labels[msd_id]\n",
    "                Gi = pickle.load( open( os.path.join(graph_directory, file), \"rb\" ) )\n",
    "#                 set_trace()\n",
    "                y.append(yi)\n",
    "                G.append(Gi)\n",
    "    #                 yi = pickle.load( open( os.path.join(graph_directory, file.split(\"_graph_\" + Tonnetz + \".p\")[0]+ \"_label.p\"), \"rb\" ) )"
   ]
  },
  {
   "cell_type": "code",
   "execution_count": 27,
   "metadata": {},
   "outputs": [
    {
     "name": "stdout",
     "output_type": "stream",
     "text": [
      "3195\n"
     ]
    }
   ],
   "source": [
    "# Use this tab to reduce unwanted labels and number of repetitions of elements\n",
    "import random\n",
    "unWanted = [\"Reggae\", \"Blues\", \"Folk\", \"Stage \", \"Childrens\", \"Avant_Garde\", \"Vocal\", \"Comedy_Spoken\", \"Classical\", \"Holiday\"]\n",
    "\n",
    "tuplelist = zip(y, G)\n",
    "poplist = list()\n",
    "otherlist = list()\n",
    "for label, graph in tuplelist:\n",
    "    if label == \"Pop_Rock\":\n",
    "        poplist.append((label, graph))\n",
    "    else:\n",
    "        if label not in unWanted:\n",
    "            otherlist.append((label, graph))\n",
    "print(len(poplist))\n",
    "\n",
    "tuplelist = random.sample(poplist, 500) + otherlist\n",
    "\n",
    "y, G = zip(*tuplelist)\n"
   ]
  },
  {
   "cell_type": "code",
   "execution_count": 28,
   "metadata": {},
   "outputs": [
    {
     "name": "stdout",
     "output_type": "stream",
     "text": [
      "We have 2498 labels\n",
      "and 2498 graphs\n",
      "Pop_Rock has occurred 500 times\n",
      "Electronic has occurred 460 times\n",
      "Rap has occurred 99 times\n",
      "Jazz has occurred 227 times\n",
      "Latin has occurred 297 times\n",
      "RnB has occurred 159 times\n",
      "International has occurred 107 times\n",
      "Country has occurred 296 times\n",
      "Religious has occurred 141 times\n",
      "Reggae has occurred 0 times\n",
      "Blues has occurred 0 times\n",
      "Vocal has occurred 0 times\n",
      "Folk has occurred 0 times\n",
      "New Age has occurred 96 times\n",
      "Comedy_Spoken has occurred 0 times\n",
      "Stage has occurred 0 times\n",
      "Easy_Listening has occurred 101 times\n",
      "Avant_Garde has occurred 0 times\n",
      "Classical has occurred 0 times\n",
      "Childrens has occurred 0 times\n",
      "Holiday has occurred 0 times\n"
     ]
    }
   ],
   "source": [
    "print(\"We have\", len(y), \"labels\")\n",
    "print(\"and\", len(G), \"graphs\")\n",
    "\n",
    "for label in LABELS:\n",
    "    print('{} has occurred {} times'.format(label, y.count(label)) )"
   ]
  },
  {
   "cell_type": "code",
   "execution_count": 29,
   "metadata": {},
   "outputs": [],
   "source": [
    "from sklearn.model_selection import train_test_split\n",
    "from grakel.utils import graph_from_networkx\n",
    "\n",
    "# Transform networkx graphs to grakel representations\n",
    "G = list(graph_from_networkx(G, node_labels_tag='note'))\n",
    "\n",
    "# Splits the dataset into a training and a test set\n",
    "G_train, G_test, y_train, y_test = train_test_split(G, y, test_size=0.3, shuffle=True, stratify=y)"
   ]
  },
  {
   "cell_type": "code",
   "execution_count": 31,
   "metadata": {},
   "outputs": [
    {
     "ename": "TypeError",
     "evalue": "__init__() got an unexpected keyword argument 'classes_'",
     "output_type": "error",
     "traceback": [
      "\u001b[1;31m---------------------------------------------------------------------------\u001b[0m",
      "\u001b[1;31mTypeError\u001b[0m                                 Traceback (most recent call last)",
      "\u001b[1;32m<ipython-input-31-70d8044a6251>\u001b[0m in \u001b[0;36m<module>\u001b[1;34m\u001b[0m\n\u001b[0;32m     10\u001b[0m \u001b[1;33m\u001b[0m\u001b[0m\n\u001b[0;32m     11\u001b[0m \u001b[1;31m# Uses the SVM classifier to perform classification\u001b[0m\u001b[1;33m\u001b[0m\u001b[1;33m\u001b[0m\u001b[1;33m\u001b[0m\u001b[0m\n\u001b[1;32m---> 12\u001b[1;33m \u001b[0mclf\u001b[0m \u001b[1;33m=\u001b[0m \u001b[0mSVC\u001b[0m\u001b[1;33m(\u001b[0m\u001b[0mkernel\u001b[0m\u001b[1;33m=\u001b[0m\u001b[1;34m\"precomputed\"\u001b[0m\u001b[1;33m,\u001b[0m \u001b[0mprobability\u001b[0m\u001b[1;33m=\u001b[0m\u001b[1;32mTrue\u001b[0m\u001b[1;33m,\u001b[0m \u001b[0mclasses_\u001b[0m\u001b[1;33m=\u001b[0m\u001b[0mLABELS\u001b[0m\u001b[1;33m)\u001b[0m\u001b[1;33m\u001b[0m\u001b[1;33m\u001b[0m\u001b[0m\n\u001b[0m\u001b[0;32m     13\u001b[0m \u001b[0mclf\u001b[0m\u001b[1;33m.\u001b[0m\u001b[0mfit\u001b[0m\u001b[1;33m(\u001b[0m\u001b[0mK_train\u001b[0m\u001b[1;33m,\u001b[0m \u001b[0my_train\u001b[0m\u001b[1;33m)\u001b[0m\u001b[1;33m\u001b[0m\u001b[1;33m\u001b[0m\u001b[0m\n\u001b[0;32m     14\u001b[0m \u001b[0my_pred\u001b[0m \u001b[1;33m=\u001b[0m \u001b[0mclf\u001b[0m\u001b[1;33m.\u001b[0m\u001b[0mpredict\u001b[0m\u001b[1;33m(\u001b[0m\u001b[0mK_test\u001b[0m\u001b[1;33m)\u001b[0m\u001b[1;33m\u001b[0m\u001b[1;33m\u001b[0m\u001b[0m\n",
      "\u001b[1;31mTypeError\u001b[0m: __init__() got an unexpected keyword argument 'classes_'"
     ]
    }
   ],
   "source": [
    "from grakel.kernels import WeisfeilerLehman, GraphletSampling\n",
    "from sklearn.svm import SVC\n",
    "from sklearn.metrics import accuracy_score\n",
    "\n",
    "\n",
    "# Uses the WEisfeilerLehman kernel to generate the kernel matrices\n",
    "gk = WeisfeilerLehman(n_iter=4, normalize=True)\n",
    "K_train = gk.fit_transform(G_train)\n",
    "K_test = gk.transform(G_test)\n",
    "\n",
    "# Uses the SVM classifier to perform classification\n",
    "clf = SVC(kernel=\"precomputed\", probability=True, classes_=LABELS)\n",
    "clf.fit(K_train, y_train)\n",
    "y_pred = clf.predict(K_test)\n",
    "\n",
    "# Computes and prints the classification accuracy\n",
    "acc = accuracy_score(y_test, y_pred)\n",
    "print(\"Accuracy:\", str(round(acc*100, 2)) + \"%\")"
   ]
  },
  {
   "cell_type": "markdown",
   "metadata": {},
   "source": [
    "### Compute Classification Metrics"
   ]
  },
  {
   "cell_type": "code",
   "execution_count": 23,
   "metadata": {
    "scrolled": false
   },
   "outputs": [
    {
     "name": "stdout",
     "output_type": "stream",
     "text": [
      "\u001b[1mRESULTS : \n",
      "\n",
      "Classification Report : \n",
      "\n",
      "\u001b[0m                 precision    recall  f1-score   support\n",
      "\n",
      "      Children       1.00      0.20      0.33         5\n",
      "       Country       0.39      0.33      0.36        89\n",
      "Easy_Listening       1.00      0.07      0.12        30\n",
      "    Electronic       0.39      0.51      0.44       138\n",
      " International       1.00      0.09      0.17        32\n",
      "          Jazz       0.94      0.22      0.36        68\n",
      "         Latin       0.76      0.21      0.33        89\n",
      "       New Age       1.00      0.52      0.68        29\n",
      "      Pop_Rock       0.28      0.77      0.41       150\n",
      "           Rap       1.00      0.20      0.33        30\n",
      "     Religious       1.00      0.12      0.21        42\n",
      "           RnB       1.00      0.21      0.34        48\n",
      "\n",
      "      accuracy                           0.39       750\n",
      "     macro avg       0.81      0.29      0.34       750\n",
      "  weighted avg       0.64      0.39      0.37       750\n",
      " \n",
      "\n",
      "\u001b[1mConfusion Matrix : \n",
      "\n",
      "\u001b[0m [[  1   1   0   0   0   0   0   0   3   0   0   0]\n",
      " [  0  29   0   7   0   0   0   0  53   0   0   0]\n",
      " [  0   0   2   5   0   0   0   0  23   0   0   0]\n",
      " [  0   7   0  70   0   0   1   0  60   0   0   0]\n",
      " [  0   2   0  12   3   0   0   0  15   0   0   0]\n",
      " [  0   3   0  20   0  15   0   0  30   0   0   0]\n",
      " [  0   7   0  11   0   0  19   0  52   0   0   0]\n",
      " [  0   0   0   6   0   0   0  15   8   0   0   0]\n",
      " [  0  10   0  21   0   0   3   0 116   0   0   0]\n",
      " [  0   0   0  12   0   0   0   0  12   6   0   0]\n",
      " [  0   7   0   6   0   0   2   0  22   0   5   0]\n",
      " [  0   8   0   8   0   1   0   0  21   0   0  10]] \n",
      "\n",
      "\u001b[1mConfusion Matrix Percentage : \n",
      "\n",
      "\u001b[0m <sklearn.metrics._plot.confusion_matrix.ConfusionMatrixDisplay object at 0x0000029383460B80> \n",
      "\n",
      "\n"
     ]
    },
    {
     "data": {
      "image/png": "[encoded data removed]",
      "text/plain": [
       "<Figure size 432x288 with 2 Axes>"
      ]
     },
     "metadata": {
      "needs_background": "light"
     },
     "output_type": "display_data"
    }
   ],
   "source": [
    "from sklearn.metrics import plot_confusion_matrix\n",
    "# from sklearn.metrics import roc_auc_score\n",
    "from sklearn.model_selection import cross_val_score\n",
    "from sklearn.metrics import confusion_matrix, classification_report\n",
    "\n",
    "print('\\033[1m' + 'RESULTS : \\n\\n' + 'Classification Report : \\n\\n'\n",
    "+ '\\033[0m', classification_report(y_test, y_pred), '\\n\\n' \n",
    "+ '\\033[1m' + 'Confusion Matrix : \\n\\n'\n",
    "+ '\\033[0m', confusion_matrix(y_test, y_pred), '\\n\\n'\n",
    "+ '\\033[1m' + 'Confusion Matrix Percentage : \\n\\n'\n",
    "+ '\\033[0m', plot_confusion_matrix(clf, K_test, y_test, normalize='true', cmap=plt.cm.Blues, ax=None), '\\n\\n')\n"
   ]
  },
  {
   "cell_type": "code",
   "execution_count": 39,
   "metadata": {},
   "outputs": [
    {
     "name": "stdout",
     "output_type": "stream",
     "text": [
      "[('Children', 0.012205131027441108), ('Country', 0.20351049107679953), ('Easy_Listening', 0.01575394747779128), ('Electronic', 0.03503409543490661), ('International', 0.013373515787642311), ('Jazz', 0.25287724084309715), ('Latin', 0.058912103609958626), ('New Age', 0.0661019398990534), ('Pop_Rock', 0.12437017984345233), ('Rap', 0.11229284148290364), ('Religious', 0.08985061853415385), ('RnB', 0.015717894982800174)]\n"
     ]
    }
   ],
   "source": [
    "print(list(zip(clf.classes_, clf.predict_proba(K_test)[0])))"
   ]
  },
  {
   "cell_type": "markdown",
   "metadata": {},
   "source": [
    "## Classification via merging disconnected subgraphs into a Big Graph.\n",
    "\n",
    "Taking the disjoint union for all graphs per datapoint merging in a single big graph for classification via kernels."
   ]
  },
  {
   "cell_type": "code",
   "execution_count": 15,
   "metadata": {},
   "outputs": [
    {
     "name": "stderr",
     "output_type": "stream",
     "text": [
      "100%|████████████████████████████████████████████████████████████████████████████| 31034/31034 [13:39<00:00, 37.86it/s]\n"
     ]
    }
   ],
   "source": [
    "import networkx as nx\n",
    "\n",
    "with open(SCORE_FILE) as f:\n",
    "    # The json SCORE_FILE is a dict of ids from Million Dollar\n",
    "    scores = json.load(f)\n",
    "y = list()\n",
    "Gi = dict()\n",
    "G = list()\n",
    "for msd_id in tqdm(scores.keys()):\n",
    "    # open every directory with midi files and save file dir to var msd_dir\n",
    "    msd_dir = msd_id_to_dirs(msd_id)\n",
    "    # add the directory where graphs where saved\n",
    "    graph_directory =  os.path.join(RESULTS_PATH, \"lmd_graphs\", msd_dir)\n",
    "    key = list(TONNETZEDICT.keys())\n",
    "    # first check if the directory isn't empty\n",
    "    if len(os.listdir(graph_directory))>1:\n",
    "        try: \n",
    "            for file in os.listdir(graph_directory):\n",
    "                IsGraphDir = False\n",
    "                if file.endswith(key[0] +\".p\"):\n",
    "                    Gi[key[0]] = pickle.load( open( os.path.join(graph_directory, file), \"rb\" ) )\n",
    "                    IsGraphDir = True\n",
    "                if file.endswith(key[1] +\".p\"):\n",
    "                    Gi[key[1]] = pickle.load( open( os.path.join(graph_directory, file), \"rb\" ) )\n",
    "                    IsGraphDir = True\n",
    "                if file.endswith(key[2] +\".p\"):\n",
    "                    Gi[key[2]] = pickle.load( open( os.path.join(graph_directory, file), \"rb\" ) )\n",
    "                    IsGraphDir = True\n",
    "                if file.endswith(key[3] +\".p\"):\n",
    "                    Gi[key[3]] = pickle.load( open( os.path.join(graph_directory, file), \"rb\" ) )\n",
    "                    IsGraphDir = True\n",
    "                if file.endswith(\"label.p\"):\n",
    "                    yi = pickle.load( open( os.path.join(graph_directory, file), \"rb\" ) )\n",
    "                    IsGraphDir = True\n",
    "        except:\n",
    "            IsGraphDir = False\n",
    "        # the disjoint union of graphs (have to chek if a graph exists)\n",
    "        if IsGraphDir:\n",
    "            U = nx.disjoint_union(Gi[\"T345\"], nx.disjoint_union(Gi[\"T129\"], nx.disjoint_union(Gi[\"T237\"], Gi[\"T147\"])))\n",
    "            G.append(U)\n",
    "            y.append(yi)\n",
    "            IsGraphDir = False"
   ]
  },
  {
   "cell_type": "code",
   "execution_count": 17,
   "metadata": {},
   "outputs": [
    {
     "name": "stdout",
     "output_type": "stream",
     "text": [
      "We have 18796 labels\n",
      "and 18796 graphs\n",
      "classic has occurred 1392 times\n",
      "rock has occurred 7402 times\n",
      "pop has occurred 5140 times\n",
      "folk has occurred 269 times\n",
      "metal has occurred 701 times\n",
      "jazz has occurred 1443 times\n",
      "disco has occurred 1404 times\n",
      "other has occurred 1045 times\n"
     ]
    }
   ],
   "source": [
    "print(\"We have\", len(y), \"labels\")\n",
    "print(\"and\", len(G), \"graphs\")\n",
    "\n",
    "for label in LABELS+[\"other\"]:\n",
    "    print('{} has occurred {} times'.format(label, y.count(label)) )"
   ]
  },
  {
   "cell_type": "code",
   "execution_count": 18,
   "metadata": {},
   "outputs": [
    {
     "name": "stderr",
     "output_type": "stream",
     "text": [
      "C:\\Users\\melki\\AppData\\Local\\Programs\\Python\\Python38\\lib\\site-packages\\sklearn\\externals\\joblib\\__init__.py:15: FutureWarning: sklearn.externals.joblib is deprecated in 0.21 and will be removed in 0.23. Please import this functionality directly from joblib, which can be installed with: pip install joblib. If this warning is raised when loading pickled models, you may need to re-serialize those models with scikit-learn 0.21+.\n",
      "  warnings.warn(msg, category=FutureWarning)\n",
      "C:\\Users\\melki\\AppData\\Local\\Programs\\Python\\Python38\\lib\\site-packages\\sklearn\\utils\\deprecation.py:144: FutureWarning: The sklearn.datasets.lfw module is  deprecated in version 0.22 and will be removed in version 0.24. The corresponding classes / functions should instead be imported from sklearn.datasets. Anything that cannot be imported from sklearn.datasets is now part of the private API.\n",
      "  warnings.warn(message, FutureWarning)\n"
     ]
    }
   ],
   "source": [
    "from sklearn.model_selection import train_test_split\n",
    "from grakel.utils import graph_from_networkx\n",
    "\n",
    "# Transform networkx graphs to grakel representations\n",
    "G = list(graph_from_networkx(G, node_labels_tag='note'))\n",
    "\n",
    "# Splits the dataset into a training and a test set\n",
    "G_train, G_test, y_train, y_test = train_test_split(G, y, test_size=0.3, shuffle=True, stratify=y)"
   ]
  },
  {
   "cell_type": "code",
   "execution_count": 19,
   "metadata": {},
   "outputs": [
    {
     "name": "stdout",
     "output_type": "stream",
     "text": [
      "Accuracy: 39.48%\n"
     ]
    }
   ],
   "source": [
    "from grakel.kernels import WeisfeilerLehman, GraphletSampling\n",
    "from sklearn.svm import SVC\n",
    "from sklearn.metrics import accuracy_score\n",
    "\n",
    "\n",
    "# Uses the WEisfeilerLehman kernel to generate the kernel matrices\n",
    "gk = WeisfeilerLehman(n_iter=4, normalize=True)\n",
    "K_train = gk.fit_transform(G_train)\n",
    "K_test = gk.transform(G_test)\n",
    "\n",
    "# Uses the SVM classifier to perform classification\n",
    "clf = SVC(kernel=\"precomputed\")\n",
    "clf.fit(K_train, y_train)\n",
    "y_pred = clf.predict(K_test)\n",
    "\n",
    "# Computes and prints the classification accuracy\n",
    "acc = accuracy_score(y_test, y_pred)\n",
    "print(\"Accuracy:\", str(round(acc*100, 2)) + \"%\")"
   ]
  },
  {
   "cell_type": "markdown",
   "metadata": {},
   "source": [
    "### Classification via Boosting\n",
    "\n",
    "In this section we apply the simple classification for every graph and the descriptors retrieved from the HMD5 files seperately and then we combine the results with a boosting learning algorithm."
   ]
  },
  {
   "cell_type": "code",
   "execution_count": null,
   "metadata": {},
   "outputs": [],
   "source": [
    "with open(SCORE_FILE) as f:\n",
    "    # The json SCORE_FILE is a dict of ids from Million Dollar\n",
    "    scores = json.load(f)\n",
    "y = { k : list() for k in TONNETZEDICT.keys()}\n",
    "G = { k : list() for k in TONNETZEDICT.keys()}\n",
    "for msd_id in tqdm(scores.keys()):\n",
    "    # open every directory with midi files and save file dir to var msd_dir\n",
    "    msd_dir = msd_id_to_dirs(msd_id)\n",
    "    # add the directory where graphs where saved\n",
    "    graph_directory =  os.path.join(RESULTS_PATH, \"lmd_graphs\", msd_dir)\n",
    "    # first check if the directory isn't empty\n",
    "    if os.listdir(graph_directory):\n",
    "        for key, tonnetz in TONNETZEDICT.items():\n",
    "            for file in os.listdir(graph_directory):\n",
    "                if file.endswith(key +\".p\"):\n",
    "                    Gi = pickle.load( open( os.path.join(graph_directory, file), \"rb\" ) )\n",
    "                    yi = pickle.load( open( os.path.join(graph_directory, file.split(\"_graph_\" +key+\".p\")[0]+ \"_label.p\"), \"rb\" ) )\n",
    "                    y[key].append(yi)\n",
    "                    G[key].append(Gi)"
   ]
  },
  {
   "cell_type": "code",
   "execution_count": null,
   "metadata": {},
   "outputs": [],
   "source": [
    "from sklearn.model_selection import train_test_split\n",
    "from grakel.kernels import WeisfeilerLehman, GraphletSampling\n",
    "from sklearn.svm import SVC\n",
    "\n",
    "G_train = dict()\n",
    "G_test = dict()\n",
    "K_train = dict() \n",
    "K_test = dict()\n",
    "clf = dict()\n",
    "y_pred = dict()\n",
    "\n",
    "for key in TONNETZEDICT.keys():  \n",
    "    # Transform networkx graphs to grakel representations\n",
    "    G[key] = list(graph_from_networkx(G[key], node_labels_tag='note'))\n",
    "    # do not shuffle the split\n",
    "    G_train[key], G_test[key], y_train, y_test = train_test_split(G[key], y[key], test_size=0.3, shuffle=False, stratify=y)\n",
    "    gk = WeisfeilerLehman(n_iter=1, normalize=True)\n",
    "    K_train[key] = gk.fit_transform(G_train[key])\n",
    "    K_test[key] = gk.transform(G_test[key])\n",
    "    y_pred[key] = clf[key].predict(K_test[key])"
   ]
  },
  {
   "cell_type": "markdown",
   "metadata": {},
   "source": [
    "# Boosting Single Graph Method"
   ]
  },
  {
   "cell_type": "code",
   "execution_count": 16,
   "metadata": {},
   "outputs": [],
   "source": [
    "from grakel.kernels import WeisfeilerLehman, GraphletSampling\n",
    "from sklearn.svm import SVC\n",
    "\n",
    "def singleGraphMethod(SCORE_FILE, LABELS_FILE, Tonnetz):\n",
    "    with open(SCORE_FILE) as f:\n",
    "        # The json SCORE_FILE is a dict of ids from Million Dollar\n",
    "        scores = json.load(f)\n",
    "    with open(LABELS_FILE) as l:\n",
    "        labels = json.load(l)\n",
    "    y = list()\n",
    "    G = list()\n",
    "    for msd_id in tqdm(scores.keys()):\n",
    "        # open every directory with midi files and save file dir to var msd_dir\n",
    "        msd_dir = msd_id_to_dirs(msd_id)\n",
    "        # add the directory where graphs where saved\n",
    "        graph_directory =  os.path.join(RESULTS_PATH, \"lmd_graphs\", msd_dir)\n",
    "        # first check if the directory isn't empty and that the msd id is included in the Top-MAGD annotation set\n",
    "        if msd_id in labels.keys() and os.listdir(graph_directory):\n",
    "            for file in os.listdir(graph_directory):\n",
    "                if file.endswith(Tonnetz+\".p\"):\n",
    "                    # load descruptors and labels\n",
    "                    yi = labels[msd_id]\n",
    "                    Gi = pickle.load( open( os.path.join(graph_directory, file), \"rb\" ) )\n",
    "                    y.append(yi)\n",
    "                    G.append(Gi)\n",
    "    return (y, G) \n",
    "\n",
    "def produce_prediction_vec(G_train, y_train, G_test, y_test):\n",
    "    # Uses the WEisfeilerLehman kernel to generate the kernel matrices\n",
    "    gk = WeisfeilerLehman(n_iter=4, normalize=True)\n",
    "    K_train = gk.fit_transform(G_train)\n",
    "    K_test = gk.transform(G_test)\n",
    "\n",
    "    # Uses the SVM classifier to perform classification\n",
    "    clf = SVC(kernel=\"precomputed\", probability=True)\n",
    "    clf.fit(K_train, y_train)\n",
    "    return clf.predict_proba(K_test)"
   ]
  },
  {
   "cell_type": "code",
   "execution_count": 17,
   "metadata": {
    "scrolled": false
   },
   "outputs": [
    {
     "name": "stderr",
     "output_type": "stream",
     "text": [
      "100%|██████████████████████████████████████████████████████████████████████████| 31034/31034 [00:07<00:00, 4427.18it/s]\n",
      "100%|██████████████████████████████████████████████████████████████████████████| 31034/31034 [00:05<00:00, 5972.04it/s]\n",
      "100%|██████████████████████████████████████████████████████████████████████████| 31034/31034 [00:05<00:00, 5249.95it/s]\n",
      "100%|██████████████████████████████████████████████████████████████████████████| 31034/31034 [00:05<00:00, 5274.21it/s]\n"
     ]
    }
   ],
   "source": [
    "y = dict()\n",
    "G = dict()\n",
    "for Tonnetz in TONNETZEDICT.keys():\n",
    "    y[Tonnetz], G[Tonnetz] = singleGraphMethod(SCORE_FILE, LABELS_FILE, Tonnetz)"
   ]
  },
  {
   "cell_type": "code",
   "execution_count": 18,
   "metadata": {},
   "outputs": [],
   "source": [
    "from grakel.utils import graph_from_networkx\n",
    "\n",
    "y_pred = dict()\n",
    "for Tonnetz in TONNETZEDICT.keys():\n",
    "    # Transform networkx graphs to grakel representations\n",
    "    G[Tonnetz] = list(graph_from_networkx(G[Tonnetz], node_labels_tag='note'))\n",
    "    G_train = G[Tonnetz][0:4000]\n",
    "    G_test = G[Tonnetz][4000:]\n",
    "    y_train = y[Tonnetz][0:4000]\n",
    "    y_test =  y[Tonnetz][4000:]\n",
    "    y_pred[Tonnetz] = produce_prediction_vec(G_train, y_train, G_test, y_test)"
   ]
  },
  {
   "cell_type": "code",
   "execution_count": 66,
   "metadata": {},
   "outputs": [
    {
     "name": "stdout",
     "output_type": "stream",
     "text": [
      "Accuracy: 53.06%\n"
     ]
    }
   ],
   "source": [
    "from sklearn.metrics import accuracy_score\n",
    "\n",
    "X = np.array(list(zip(y_pred[\"T345\"],y_pred[\"T237\"], y_pred[\"T129\"], y_pred[\"T147\"])))\n",
    "X = X.reshape((len(X), -1))\n",
    "\n",
    "clf = SVC()\n",
    "y_fin_pred = clf.fit(X, y_test).predict(X)\n",
    "\n",
    "# Computes and prints the classification accuracy\n",
    "acc = accuracy_score(y_test, y_fin_pred)\n",
    "print(\"Accuracy:\", str(round(acc*100, 2)) + \"%\")"
   ]
  },
  {
   "cell_type": "code",
   "execution_count": null,
   "metadata": {},
   "outputs": [],
   "source": []
  }
 ],
 "metadata": {
  "kernelspec": {
   "display_name": "Python 3",
   "language": "python",
   "name": "python3"
  },
  "language_info": {
   "codemirror_mode": {
    "name": "ipython",
    "version": 3
   },
   "file_extension": ".py",
   "mimetype": "text/x-python",
   "name": "python",
   "nbconvert_exporter": "python",
   "pygments_lexer": "ipython3",
   "version": "3.8.2"
  }
 },
 "nbformat": 4,
 "nbformat_minor": 4
}
