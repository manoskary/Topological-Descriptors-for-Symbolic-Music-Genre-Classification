{
 "cells": [
  {
   "cell_type": "markdown",
   "metadata": {},
   "source": [
    "This notebook presents a method to read *MIDI files* and *MDH5* files from the **LAKH** Dataset and create grakel graphs for future classification. For each midi piece we create 4 grakel graphs based on trajectories on 4 different Tonnetze (T345, T129, T138, T237) and we search it's artist's label in the corresponding *HDF5* file. We store in the same storing format in a different folder.\n",
    "\n",
    "We can also use this method to store future descriptors.\n",
    "\n",
    "In the block below we configure the basic function for the setup of the directory. We only use the first 2 functions."
   ]
  },
  {
   "cell_type": "code",
   "execution_count": 1,
   "metadata": {},
   "outputs": [],
   "source": [
    "# Imports\n",
    "import numpy as np\n",
    "import matplotlib.pyplot as plt\n",
    "%matplotlib inline\n",
    "import pretty_midi\n",
    "# import librosa\n",
    "import mir_eval\n",
    "import mir_eval.display\n",
    "import tables\n",
    "import IPython.display\n",
    "import os\n",
    "import json\n",
    "from tqdm import tqdm\n",
    "import pickle\n",
    "\n",
    "# Local path constants\n",
    "DATA_PATH = 'data'\n",
    "RESULTS_PATH = 'results'\n",
    "# Path to the file match_scores.json distributed with the LMD\n",
    "SCORE_FILE = os.path.join(RESULTS_PATH, 'match_scores.json')\n",
    "LABELS_FILE = os.path.join(RESULTS_PATH, 'MAGD.csv')\n",
    "# The Tonnetze used for graph generation\n",
    "TONNETZEDICT = {'T129': [1, 2, 9], 'T147': [1, 4, 7], 'T237': [2, 3, 7], 'T345': [3, 4, 5]}\n",
    "# Define the labels we want to find (we can add or remove)\n",
    "LABELS = [\"classic\", \"rock\", \"pop\", \"folk\", \"metal\", \"jazz\", \"disco\"]\n",
    "\n",
    "# Utility functions for retrieving paths\n",
    "def msd_id_to_dirs(msd_id):\n",
    "    \"\"\"Given an MSD ID, generate the path prefix.\n",
    "    E.g. TRABCD12345678 -> A/B/C/TRABCD12345678\"\"\"\n",
    "    return os.path.join(msd_id[2], msd_id[3], msd_id[4], msd_id)\n",
    "\n",
    "def msd_id_to_mp3(msd_id):\n",
    "    \"\"\"Given an MSD ID, return the path to the corresponding mp3\"\"\"\n",
    "    return os.path.join(DATA_PATH, 'msd', 'mp3',\n",
    "                        msd_id_to_dirs(msd_id) + '.mp3')\n",
    "\n",
    "def msd_id_to_h5(h5):\n",
    "    \"\"\"Given an MSD ID, return the path to the corresponding h5\"\"\"\n",
    "    return os.path.join(RESULTS_PATH, 'lmd_matched_h5',\n",
    "                        msd_id_to_dirs(msd_id) + '.h5')\n",
    "\n",
    "def get_midi_path(msd_id, midi_md5, kind):\n",
    "    \"\"\"Given an MSD ID and MIDI MD5, return path to a MIDI file.\n",
    "    kind should be one of 'matched' or 'aligned'. \"\"\"\n",
    "    return os.path.join(RESULTS_PATH, 'lmd_{}'.format(kind),\n",
    "                        msd_id_to_dirs(msd_id), midi_md5 + '.mid')"
   ]
  },
  {
   "cell_type": "code",
   "execution_count": 6,
   "metadata": {},
   "outputs": [
    {
     "data": {
      "text/html": [
       "<div>\n",
       "<style scoped>\n",
       "    .dataframe tbody tr th:only-of-type {\n",
       "        vertical-align: middle;\n",
       "    }\n",
       "\n",
       "    .dataframe tbody tr th {\n",
       "        vertical-align: top;\n",
       "    }\n",
       "\n",
       "    .dataframe thead th {\n",
       "        text-align: right;\n",
       "    }\n",
       "</style>\n",
       "<table border=\"1\" class=\"dataframe\">\n",
       "  <thead>\n",
       "    <tr style=\"text-align: right;\">\n",
       "      <th></th>\n",
       "      <th>MSD_ID</th>\n",
       "      <th>LABEL</th>\n",
       "    </tr>\n",
       "  </thead>\n",
       "  <tbody>\n",
       "    <tr>\n",
       "      <th>0</th>\n",
       "      <td>TRAAAAK128F9318786</td>\n",
       "      <td>Pop_Rock</td>\n",
       "    </tr>\n",
       "    <tr>\n",
       "      <th>1</th>\n",
       "      <td>TRAAAAV128F421A322</td>\n",
       "      <td>Pop_Rock</td>\n",
       "    </tr>\n",
       "    <tr>\n",
       "      <th>2</th>\n",
       "      <td>TRAAAAW128F429D538</td>\n",
       "      <td>Rap</td>\n",
       "    </tr>\n",
       "    <tr>\n",
       "      <th>3</th>\n",
       "      <td>TRAAABD128F429CF47</td>\n",
       "      <td>Pop_Rock</td>\n",
       "    </tr>\n",
       "    <tr>\n",
       "      <th>4</th>\n",
       "      <td>TRAAACV128F423E09E</td>\n",
       "      <td>Pop_Rock</td>\n",
       "    </tr>\n",
       "  </tbody>\n",
       "</table>\n",
       "</div>"
      ],
      "text/plain": [
       "               MSD_ID     LABEL\n",
       "0  TRAAAAK128F9318786  Pop_Rock\n",
       "1  TRAAAAV128F421A322  Pop_Rock\n",
       "2  TRAAAAW128F429D538       Rap\n",
       "3  TRAAABD128F429CF47  Pop_Rock\n",
       "4  TRAAACV128F423E09E  Pop_Rock"
      ]
     },
     "execution_count": 6,
     "metadata": {},
     "output_type": "execute_result"
    }
   ],
   "source": []
  },
  {
   "cell_type": "code",
   "execution_count": 7,
   "metadata": {
    "scrolled": true
   },
   "outputs": [],
   "source": []
  },
  {
   "cell_type": "code",
   "execution_count": 14,
   "metadata": {},
   "outputs": [],
   "source": []
  },
  {
   "cell_type": "markdown",
   "metadata": {},
   "source": [
    "We show how *MIDI* files are arranged and what can we get from the json scores file."
   ]
  },
  {
   "cell_type": "code",
   "execution_count": 3,
   "metadata": {},
   "outputs": [
    {
     "name": "stdout",
     "output_type": "stream",
     "text": [
      "Million Song Dataset ID TRWMHMP128EF34293F has 2 MIDI file matches:\n",
      "  c3da6699f64da3db8e523cbbaa80f384 with confidence score 0.7321245522741104\n",
      "W/M/H/TRWMHMP128EF34293F\n",
      "  d8392424ea57a0fe6f65447680924d37 with confidence score 0.7476196649194942\n",
      "W/M/H/TRWMHMP128EF34293F\n"
     ]
    }
   ],
   "source": [
    "with open(SCORE_FILE) as f:\n",
    "    scores = json.load(f)\n",
    "# Grab a Million Song Dataset ID from the scores dictionary\n",
    "msd_id = list(scores.keys())[1]\n",
    "print('Million Song Dataset ID {} has {} MIDI file matches:'.format(\n",
    "    msd_id, len(scores[msd_id])))\n",
    "for midi_md5, score in scores[msd_id].items():\n",
    "    print( '  {} with confidence score {}'.format(midi_md5, score))\n",
    "\n",
    "    print(msd_id_to_dirs(msd_id))"
   ]
  },
  {
   "cell_type": "markdown",
   "metadata": {},
   "source": [
    "We show how to read the HDF5 *.h5* file :"
   ]
  },
  {
   "cell_type": "code",
   "execution_count": null,
   "metadata": {},
   "outputs": [],
   "source": [
    "with tables.open_file(msd_id_to_h5(msd_id)) as h5:\n",
    "    print('ID: {}'.format(msd_id))\n",
    "    print('\"{}\" by {} on \"{}\"'.format(\n",
    "        h5.root.metadata.songs.cols.title[0],\n",
    "        h5.root.metadata.songs.cols.artist_name[0],\n",
    "        h5.root.metadata.songs.cols.release[0]))\n",
    "    print('Top 5 artist terms:', b\", \".join(list(h5.root.metadata.artist_terms)[:5]))"
   ]
  },
  {
   "cell_type": "code",
   "execution_count": 3,
   "metadata": {},
   "outputs": [],
   "source": [
    "def find_genre_label(msd_id):\n",
    "    '''Find the genre of a piece given its msd_id'''\n",
    "    with tables.open_file(msd_id_to_h5(msd_id)) as h5:\n",
    "        for artist_term in list(h5.root.metadata.artist_terms):\n",
    "            # transform bytes object to string\n",
    "            artist_term = artist_term.decode()\n",
    "            for label in LABELS:\n",
    "                if label in artist_term:\n",
    "                    return label\n",
    "        else:\n",
    "            return \"other\"\n",
    "\n",
    "from hdf5_getters import *\n",
    "\n",
    "def get_song_info(msd_id):\n",
    "    '''Extract info from a HDF5 given its msd_id'''\n",
    "    infodict = dict()\n",
    "    with tables.open_file(msd_id_to_h5(msd_id)) as h5:\n",
    "\n",
    "        infodict[\"key\"]= get_key(h5)\n",
    "        infodict[\"key_confidence\"]= get_key_confidence(h5)\n",
    "        infodict[\"mode\"]= get_mode(h5)\n",
    "        infodict[\"tempo\"]= get_tempo(h5)\n",
    "        infodict[\"time_signature\"]= get_time_signature(h5)\n",
    "        infodict[\"time_signature_confidence\"]= get_time_signature_confidence(h5)\n",
    "        infodict[\"duration\"]= get_duration(h5)\n",
    "        \n",
    "#         infodict[\"get_sections_start\"] = get_sections_start(h5)\n",
    "#         infodict[\"segments_start\"] = get_segments_start(h5)\n",
    "#         infodict[\"segments_pitches\"] = get_segments_pitches(h5)\n",
    "#         infodict[\"segments_timbre\"] = get_segments_timbre(h5)\n",
    "#         infodict[\"segments_confidence\"] = get_segments_confidence(h5)\n",
    "\n",
    "#         infodict[\"loudness\"]= get_loudness(h5)\n",
    "#         infodict[\"energy\"]= get_energy(h5)\n",
    "#         infodict[\"sample_rate\"]= get_analysis_sample_rate(h5)\n",
    "\n",
    "    return infodict"
   ]
  },
  {
   "cell_type": "code",
   "execution_count": 5,
   "metadata": {
    "scrolled": true
   },
   "outputs": [
    {
     "name": "stdout",
     "output_type": "stream",
     "text": [
      "disco\n",
      "{'key': 11, 'key_confidence': 0.334, 'mode': 1, 'tempo': 109.842, 'time_signature': 1, 'time_signature_confidence': 0.0, 'duration': 203.31057}\n"
     ]
    }
   ],
   "source": [
    "print(find_genre_label(msd_id))\n",
    "print(get_song_info(msd_id))"
   ]
  },
  {
   "cell_type": "markdown",
   "metadata": {},
   "source": [
    "### Some Definitions\n",
    "Midi parsing and jsymbolics"
   ]
  },
  {
   "cell_type": "code",
   "execution_count": 3,
   "metadata": {},
   "outputs": [],
   "source": [
    "import ast\n",
    "import music21\n",
    "\n",
    "def jSymbolic_stat(parsed_midi):\n",
    "    # retrieve statistics from jSymbolic (we can add or remove easily)\n",
    "    return {'arpegiation_amount': music21.features.jSymbolic.AmountOfArpeggiationFeature(parsed_midi).extract().vector,\n",
    "        'av_melodic_int': music21.features.jSymbolic.AverageMelodicIntervalFeature(parsed_midi).extract().vector, #Sometimes causes error\n",
    "        'av_note_dur': music21.features.jSymbolic.AverageNoteDurationFeature(parsed_midi).extract().vector,\n",
    "        'av_num_of_ind_voices': music21.features.jSymbolic.AverageNumberOfIndependentVoicesFeature(parsed_midi).extract().vector,\n",
    "        'av_time_bet_att': music21.features.jSymbolic.AverageTimeBetweenAttacksFeature(parsed_midi).extract().vector,\n",
    "        'importance_of_bass': music21.features.jSymbolic.ImportanceOfBassRegisterFeature(parsed_midi).extract().vector,\n",
    "        'importance_of_mid': music21.features.jSymbolic.ImportanceOfMiddleRegisterFeature(parsed_midi).extract().vector,\n",
    "        'importance_of_high': music21.features.jSymbolic.ImportanceOfHighRegisterFeature(parsed_midi).extract().vector,\n",
    "    }\n",
    "\n",
    "def get_chords(parsed_midi):\n",
    "    mChords = parsed_midi.chordify()\n",
    "    chordList = []\n",
    "    for c in mChords.recurse().getElementsByClass('Chord'):\n",
    "        chordList.append(c.orderedPitchClasses)    \n",
    "    N = len(chordList)\n",
    "    chordListNoDoubles = []\n",
    "    sl = [str(i) for i in chordList]\n",
    "    chordListNoDoubles.append(chordList[0])\n",
    "    for i in range(1, N):\n",
    "        if sl[i] != sl[i - 1]:\n",
    "            chordListNoDoubles.append(ast.literal_eval(sl[i]))\n",
    "    return chordListNoDoubles\n",
    "    "
   ]
  },
  {
   "cell_type": "markdown",
   "metadata": {},
   "source": [
    "Below the code to generate graphs and descriptors and save them in local directory"
   ]
  },
  {
   "cell_type": "code",
   "execution_count": 5,
   "metadata": {},
   "outputs": [
    {
     "name": "stderr",
     "output_type": "stream",
     "text": [
      "  2%|▏         | 694/31034 [00:02<01:35, 317.73it/s]"
     ]
    },
    {
     "name": "stdout",
     "output_type": "stream",
     "text": [
      "lol\n"
     ]
    },
    {
     "name": "stderr",
     "output_type": "stream",
     "text": [
      "  3%|▎         | 1082/31034 [00:11<08:17, 60.25it/s]"
     ]
    },
    {
     "name": "stdout",
     "output_type": "stream",
     "text": [
      "lol\n"
     ]
    },
    {
     "name": "stderr",
     "output_type": "stream",
     "text": [
      "  4%|▍         | 1166/31034 [00:14<09:07, 54.59it/s]"
     ]
    },
    {
     "name": "stdout",
     "output_type": "stream",
     "text": [
      "lol\n"
     ]
    },
    {
     "name": "stderr",
     "output_type": "stream",
     "text": [
      "  4%|▍         | 1183/31034 [00:20<1:33:37,  5.31it/s]"
     ]
    },
    {
     "name": "stdout",
     "output_type": "stream",
     "text": [
      "[10, 4, 5, 6, 8, 2] dict_items([(10, (103, 102)), (4, (103, 104)), (5, (104, 103)), (6, (102, 102)), (2, (104, 102))]) (103, 102) 7 6 5\n"
     ]
    },
    {
     "name": "stderr",
     "output_type": "stream",
     "text": [
      "  4%|▍         | 1395/31034 [00:23<10:26, 47.34it/s]  "
     ]
    },
    {
     "name": "stdout",
     "output_type": "stream",
     "text": [
      "lol\n"
     ]
    },
    {
     "name": "stderr",
     "output_type": "stream",
     "text": [
      "  5%|▌         | 1652/31034 [00:29<06:06, 80.10it/s]"
     ]
    },
    {
     "name": "stdout",
     "output_type": "stream",
     "text": [
      "lol\n",
      "lol\n",
      "lol\n",
      "lol\n",
      "lol\n",
      "lol\n",
      "lol\n",
      "lol\n",
      "lol\n"
     ]
    },
    {
     "name": "stderr",
     "output_type": "stream",
     "text": [
      "\r",
      "  5%|▌         | 1652/31034 [00:40<06:06, 80.10it/s]"
     ]
    },
    {
     "name": "stdout",
     "output_type": "stream",
     "text": [
      "lol\n",
      "lol\n",
      "lol\n",
      "lol\n"
     ]
    },
    {
     "name": "stderr",
     "output_type": "stream",
     "text": [
      "  6%|▌         | 1712/31034 [00:46<46:44, 10.46it/s]  "
     ]
    },
    {
     "name": "stdout",
     "output_type": "stream",
     "text": [
      "lol\n",
      "lol\n",
      "lol\n",
      "lol\n",
      "lol\n"
     ]
    },
    {
     "name": "stderr",
     "output_type": "stream",
     "text": [
      "  6%|▌         | 1938/31034 [01:04<06:54, 70.25it/s]   "
     ]
    },
    {
     "name": "stdout",
     "output_type": "stream",
     "text": [
      "lol\n"
     ]
    },
    {
     "name": "stderr",
     "output_type": "stream",
     "text": [
      "  7%|▋         | 2078/31034 [01:07<06:26, 74.88it/s]"
     ]
    },
    {
     "name": "stdout",
     "output_type": "stream",
     "text": [
      "lol\n"
     ]
    },
    {
     "name": "stderr",
     "output_type": "stream",
     "text": [
      "  8%|▊         | 2599/31034 [01:15<05:31, 85.90it/s] "
     ]
    },
    {
     "name": "stdout",
     "output_type": "stream",
     "text": [
      "lol\n",
      "lol\n"
     ]
    },
    {
     "name": "stderr",
     "output_type": "stream",
     "text": [
      "  9%|▉         | 2731/31034 [01:22<08:07, 58.05it/s]  "
     ]
    },
    {
     "name": "stdout",
     "output_type": "stream",
     "text": [
      "lol\n"
     ]
    },
    {
     "name": "stderr",
     "output_type": "stream",
     "text": [
      " 11%|█         | 3401/31034 [01:31<04:41, 98.16it/s] "
     ]
    },
    {
     "name": "stdout",
     "output_type": "stream",
     "text": [
      "lol\n",
      "lol\n",
      "lol\n"
     ]
    },
    {
     "name": "stderr",
     "output_type": "stream",
     "text": [
      " 11%|█         | 3437/31034 [01:39<34:30, 13.33it/s]  "
     ]
    },
    {
     "name": "stdout",
     "output_type": "stream",
     "text": [
      "lol\n"
     ]
    },
    {
     "name": "stderr",
     "output_type": "stream",
     "text": [
      " 11%|█         | 3467/31034 [01:42<13:32, 33.92it/s]  "
     ]
    },
    {
     "name": "stdout",
     "output_type": "stream",
     "text": [
      "lol\n"
     ]
    },
    {
     "name": "stderr",
     "output_type": "stream",
     "text": [
      "\n"
     ]
    },
    {
     "ename": "KeyboardInterrupt",
     "evalue": "",
     "output_type": "error",
     "traceback": [
      "\u001b[0;31m---------------------------------------------------------------------------\u001b[0m",
      "\u001b[0;31mKeyboardInterrupt\u001b[0m                         Traceback (most recent call last)",
      "\u001b[0;32m<ipython-input-5-9c09ddf77edb>\u001b[0m in \u001b[0;36m<module>\u001b[0;34m\u001b[0m\n\u001b[1;32m     24\u001b[0m                 \u001b[0mprint\u001b[0m\u001b[0;34m(\u001b[0m\u001b[0;34m\"lol\"\u001b[0m\u001b[0;34m)\u001b[0m\u001b[0;34m\u001b[0m\u001b[0;34m\u001b[0m\u001b[0m\n\u001b[1;32m     25\u001b[0m                 \u001b[0;32mtry\u001b[0m\u001b[0;34m:\u001b[0m\u001b[0;34m\u001b[0m\u001b[0;34m\u001b[0m\u001b[0m\n\u001b[0;32m---> 26\u001b[0;31m                     \u001b[0ms\u001b[0m \u001b[0;34m=\u001b[0m \u001b[0mmusic21\u001b[0m\u001b[0;34m.\u001b[0m\u001b[0mconverter\u001b[0m\u001b[0;34m.\u001b[0m\u001b[0mparse\u001b[0m\u001b[0;34m(\u001b[0m\u001b[0mos\u001b[0m\u001b[0;34m.\u001b[0m\u001b[0mpath\u001b[0m\u001b[0;34m.\u001b[0m\u001b[0mjoin\u001b[0m\u001b[0;34m(\u001b[0m\u001b[0mdirectory\u001b[0m\u001b[0;34m,\u001b[0m \u001b[0mmidi_file\u001b[0m\u001b[0;34m)\u001b[0m\u001b[0;34m)\u001b[0m\u001b[0;34m\u001b[0m\u001b[0;34m\u001b[0m\u001b[0m\n\u001b[0m\u001b[1;32m     27\u001b[0m                     \u001b[0mchordlist\u001b[0m  \u001b[0;34m=\u001b[0m \u001b[0mget_chords\u001b[0m\u001b[0;34m(\u001b[0m\u001b[0ms\u001b[0m\u001b[0;34m)\u001b[0m\u001b[0;34m\u001b[0m\u001b[0;34m\u001b[0m\u001b[0m\n\u001b[1;32m     28\u001b[0m                     \u001b[0;31m# Add descriptors and store from jSymbolic\u001b[0m\u001b[0;34m\u001b[0m\u001b[0;34m\u001b[0m\u001b[0;34m\u001b[0m\u001b[0m\n",
      "\u001b[0;32m~/.conda/envs/myenv/lib/python3.6/site-packages/music21/converter/__init__.py\u001b[0m in \u001b[0;36mparse\u001b[0;34m(value, *args, **keywords)\u001b[0m\n\u001b[1;32m   1127\u001b[0m     \u001b[0;32melif\u001b[0m \u001b[0;32mnot\u001b[0m \u001b[0misinstance\u001b[0m\u001b[0;34m(\u001b[0m\u001b[0mvalue\u001b[0m\u001b[0;34m,\u001b[0m \u001b[0mbytes\u001b[0m\u001b[0;34m)\u001b[0m \u001b[0;32mand\u001b[0m \u001b[0mos\u001b[0m\u001b[0;34m.\u001b[0m\u001b[0mpath\u001b[0m\u001b[0;34m.\u001b[0m\u001b[0mexists\u001b[0m\u001b[0;34m(\u001b[0m\u001b[0mvalueStr\u001b[0m\u001b[0;34m)\u001b[0m\u001b[0;34m:\u001b[0m\u001b[0;34m\u001b[0m\u001b[0;34m\u001b[0m\u001b[0m\n\u001b[1;32m   1128\u001b[0m         return parseFile(valueStr, number=number, format=m21Format,\n\u001b[0;32m-> 1129\u001b[0;31m                          forceSource=forceSource, **keywords)\n\u001b[0m\u001b[1;32m   1130\u001b[0m     \u001b[0;32melif\u001b[0m \u001b[0;32mnot\u001b[0m \u001b[0misinstance\u001b[0m\u001b[0;34m(\u001b[0m\u001b[0mvalue\u001b[0m\u001b[0;34m,\u001b[0m \u001b[0mbytes\u001b[0m\u001b[0;34m)\u001b[0m \u001b[0;32mand\u001b[0m \u001b[0mos\u001b[0m\u001b[0;34m.\u001b[0m\u001b[0mpath\u001b[0m\u001b[0;34m.\u001b[0m\u001b[0mexists\u001b[0m\u001b[0;34m(\u001b[0m\u001b[0mcommon\u001b[0m\u001b[0;34m.\u001b[0m\u001b[0mcleanpath\u001b[0m\u001b[0;34m(\u001b[0m\u001b[0mvalueStr\u001b[0m\u001b[0;34m)\u001b[0m\u001b[0;34m)\u001b[0m\u001b[0;34m:\u001b[0m\u001b[0;34m\u001b[0m\u001b[0;34m\u001b[0m\u001b[0m\n\u001b[1;32m   1131\u001b[0m         return parseFile(common.cleanpath(valueStr), number=number, format=m21Format,\n",
      "\u001b[0;32m~/.conda/envs/myenv/lib/python3.6/site-packages/music21/converter/__init__.py\u001b[0m in \u001b[0;36mparseFile\u001b[0;34m(fp, number, format, forceSource, **keywords)\u001b[0m\n\u001b[1;32m   1007\u001b[0m     \u001b[0mv\u001b[0m \u001b[0;34m=\u001b[0m \u001b[0mConverter\u001b[0m\u001b[0;34m(\u001b[0m\u001b[0;34m)\u001b[0m\u001b[0;34m\u001b[0m\u001b[0;34m\u001b[0m\u001b[0m\n\u001b[1;32m   1008\u001b[0m     \u001b[0mfp\u001b[0m \u001b[0;34m=\u001b[0m \u001b[0mcommon\u001b[0m\u001b[0;34m.\u001b[0m\u001b[0mcleanpath\u001b[0m\u001b[0;34m(\u001b[0m\u001b[0mfp\u001b[0m\u001b[0;34m,\u001b[0m \u001b[0mreturnPathlib\u001b[0m\u001b[0;34m=\u001b[0m\u001b[0;32mTrue\u001b[0m\u001b[0;34m)\u001b[0m\u001b[0;34m\u001b[0m\u001b[0;34m\u001b[0m\u001b[0m\n\u001b[0;32m-> 1009\u001b[0;31m     \u001b[0mv\u001b[0m\u001b[0;34m.\u001b[0m\u001b[0mparseFile\u001b[0m\u001b[0;34m(\u001b[0m\u001b[0mfp\u001b[0m\u001b[0;34m,\u001b[0m \u001b[0mnumber\u001b[0m\u001b[0;34m=\u001b[0m\u001b[0mnumber\u001b[0m\u001b[0;34m,\u001b[0m \u001b[0mformat\u001b[0m\u001b[0;34m=\u001b[0m\u001b[0mformat\u001b[0m\u001b[0;34m,\u001b[0m \u001b[0mforceSource\u001b[0m\u001b[0;34m=\u001b[0m\u001b[0mforceSource\u001b[0m\u001b[0;34m,\u001b[0m \u001b[0;34m**\u001b[0m\u001b[0mkeywords\u001b[0m\u001b[0;34m)\u001b[0m\u001b[0;34m\u001b[0m\u001b[0;34m\u001b[0m\u001b[0m\n\u001b[0m\u001b[1;32m   1010\u001b[0m     \u001b[0;32mreturn\u001b[0m \u001b[0mv\u001b[0m\u001b[0;34m.\u001b[0m\u001b[0mstream\u001b[0m\u001b[0;34m\u001b[0m\u001b[0;34m\u001b[0m\u001b[0m\n\u001b[1;32m   1011\u001b[0m \u001b[0;34m\u001b[0m\u001b[0m\n",
      "\u001b[0;32m~/.conda/envs/myenv/lib/python3.6/site-packages/music21/converter/__init__.py\u001b[0m in \u001b[0;36mparseFile\u001b[0;34m(self, fp, number, format, forceSource, storePickle, **keywords)\u001b[0m\n\u001b[1;32m    542\u001b[0m         \u001b[0;32melse\u001b[0m\u001b[0;34m:\u001b[0m\u001b[0;34m\u001b[0m\u001b[0;34m\u001b[0m\u001b[0m\n\u001b[1;32m    543\u001b[0m             \u001b[0menvironLocal\u001b[0m\u001b[0;34m.\u001b[0m\u001b[0mprintDebug\u001b[0m\u001b[0;34m(\u001b[0m\u001b[0;34m'Loading original version'\u001b[0m\u001b[0;34m)\u001b[0m\u001b[0;34m\u001b[0m\u001b[0;34m\u001b[0m\u001b[0m\n\u001b[0;32m--> 544\u001b[0;31m             \u001b[0mself\u001b[0m\u001b[0;34m.\u001b[0m\u001b[0mparseFileNoPickle\u001b[0m\u001b[0;34m(\u001b[0m\u001b[0mfp\u001b[0m\u001b[0;34m,\u001b[0m \u001b[0mnumber\u001b[0m\u001b[0;34m,\u001b[0m \u001b[0mformat\u001b[0m\u001b[0;34m,\u001b[0m \u001b[0mforceSource\u001b[0m\u001b[0;34m,\u001b[0m \u001b[0;34m**\u001b[0m\u001b[0mkeywords\u001b[0m\u001b[0;34m)\u001b[0m\u001b[0;34m\u001b[0m\u001b[0;34m\u001b[0m\u001b[0m\n\u001b[0m\u001b[1;32m    545\u001b[0m             \u001b[0;32mif\u001b[0m \u001b[0mwritePickle\u001b[0m \u001b[0;32mis\u001b[0m \u001b[0;32mTrue\u001b[0m \u001b[0;32mand\u001b[0m \u001b[0mfpPickle\u001b[0m \u001b[0;32mis\u001b[0m \u001b[0;32mnot\u001b[0m \u001b[0;32mNone\u001b[0m \u001b[0;32mand\u001b[0m \u001b[0mstorePickle\u001b[0m \u001b[0;32mis\u001b[0m \u001b[0;32mTrue\u001b[0m\u001b[0;34m:\u001b[0m\u001b[0;34m\u001b[0m\u001b[0;34m\u001b[0m\u001b[0m\n\u001b[1;32m    546\u001b[0m                 \u001b[0;31m# save the stream to disk...\u001b[0m\u001b[0;34m\u001b[0m\u001b[0;34m\u001b[0m\u001b[0;34m\u001b[0m\u001b[0m\n",
      "\u001b[0;32m~/.conda/envs/myenv/lib/python3.6/site-packages/music21/converter/__init__.py\u001b[0m in \u001b[0;36mparseFileNoPickle\u001b[0;34m(self, fp, number, format, forceSource, **keywords)\u001b[0m\n\u001b[1;32m    476\u001b[0m         \u001b[0mself\u001b[0m\u001b[0;34m.\u001b[0m\u001b[0msubConverter\u001b[0m\u001b[0;34m.\u001b[0m\u001b[0mkeywords\u001b[0m \u001b[0;34m=\u001b[0m \u001b[0mkeywords\u001b[0m\u001b[0;34m\u001b[0m\u001b[0;34m\u001b[0m\u001b[0m\n\u001b[1;32m    477\u001b[0m         \u001b[0;32mtry\u001b[0m\u001b[0;34m:\u001b[0m\u001b[0;34m\u001b[0m\u001b[0;34m\u001b[0m\u001b[0m\n\u001b[0;32m--> 478\u001b[0;31m             \u001b[0mself\u001b[0m\u001b[0;34m.\u001b[0m\u001b[0msubConverter\u001b[0m\u001b[0;34m.\u001b[0m\u001b[0mparseFile\u001b[0m\u001b[0;34m(\u001b[0m\u001b[0mfp\u001b[0m\u001b[0;34m,\u001b[0m \u001b[0mnumber\u001b[0m\u001b[0;34m=\u001b[0m\u001b[0mnumber\u001b[0m\u001b[0;34m,\u001b[0m \u001b[0;34m**\u001b[0m\u001b[0mkeywords\u001b[0m\u001b[0;34m)\u001b[0m\u001b[0;34m\u001b[0m\u001b[0;34m\u001b[0m\u001b[0m\n\u001b[0m\u001b[1;32m    479\u001b[0m         \u001b[0;32mexcept\u001b[0m \u001b[0mNotImplementedError\u001b[0m\u001b[0;34m:\u001b[0m\u001b[0;34m\u001b[0m\u001b[0;34m\u001b[0m\u001b[0m\n\u001b[1;32m    480\u001b[0m             \u001b[0;32mraise\u001b[0m \u001b[0mConverterFileException\u001b[0m\u001b[0;34m(\u001b[0m\u001b[0;34m'File is not in a correct format: %s'\u001b[0m \u001b[0;34m%\u001b[0m \u001b[0mfp\u001b[0m\u001b[0;34m)\u001b[0m\u001b[0;34m\u001b[0m\u001b[0;34m\u001b[0m\u001b[0m\n",
      "\u001b[0;32m~/.conda/envs/myenv/lib/python3.6/site-packages/music21/converter/subConverters.py\u001b[0m in \u001b[0;36mparseFile\u001b[0;34m(self, fp, number, **keywords)\u001b[0m\n\u001b[1;32m    980\u001b[0m         '''\n\u001b[1;32m    981\u001b[0m         \u001b[0;32mfrom\u001b[0m \u001b[0mmusic21\u001b[0m\u001b[0;34m.\u001b[0m\u001b[0mmidi\u001b[0m \u001b[0;32mimport\u001b[0m \u001b[0mtranslate\u001b[0m \u001b[0;32mas\u001b[0m \u001b[0mmidiTranslate\u001b[0m\u001b[0;34m\u001b[0m\u001b[0;34m\u001b[0m\u001b[0m\n\u001b[0;32m--> 982\u001b[0;31m         \u001b[0mmidiTranslate\u001b[0m\u001b[0;34m.\u001b[0m\u001b[0mmidiFilePathToStream\u001b[0m\u001b[0;34m(\u001b[0m\u001b[0mfp\u001b[0m\u001b[0;34m,\u001b[0m \u001b[0mself\u001b[0m\u001b[0;34m.\u001b[0m\u001b[0mstream\u001b[0m\u001b[0;34m,\u001b[0m \u001b[0;34m**\u001b[0m\u001b[0mkeywords\u001b[0m\u001b[0;34m)\u001b[0m\u001b[0;34m\u001b[0m\u001b[0;34m\u001b[0m\u001b[0m\n\u001b[0m\u001b[1;32m    983\u001b[0m \u001b[0;34m\u001b[0m\u001b[0m\n\u001b[1;32m    984\u001b[0m     \u001b[0;32mdef\u001b[0m \u001b[0mwrite\u001b[0m\u001b[0;34m(\u001b[0m\u001b[0mself\u001b[0m\u001b[0;34m,\u001b[0m \u001b[0mobj\u001b[0m\u001b[0;34m,\u001b[0m \u001b[0mfmt\u001b[0m\u001b[0;34m,\u001b[0m \u001b[0mfp\u001b[0m\u001b[0;34m=\u001b[0m\u001b[0;32mNone\u001b[0m\u001b[0;34m,\u001b[0m \u001b[0msubformats\u001b[0m\u001b[0;34m=\u001b[0m\u001b[0;32mNone\u001b[0m\u001b[0;34m,\u001b[0m \u001b[0;34m**\u001b[0m\u001b[0mkeywords\u001b[0m\u001b[0;34m)\u001b[0m\u001b[0;34m:\u001b[0m  \u001b[0;31m# pragma: no cover\u001b[0m\u001b[0;34m\u001b[0m\u001b[0;34m\u001b[0m\u001b[0m\n",
      "\u001b[0;32m~/.conda/envs/myenv/lib/python3.6/site-packages/music21/midi/translate.py\u001b[0m in \u001b[0;36mmidiFilePathToStream\u001b[0;34m(filePath, inputM21, **keywords)\u001b[0m\n\u001b[1;32m   1973\u001b[0m     \u001b[0mmf\u001b[0m\u001b[0;34m.\u001b[0m\u001b[0mread\u001b[0m\u001b[0;34m(\u001b[0m\u001b[0;34m)\u001b[0m\u001b[0;34m\u001b[0m\u001b[0;34m\u001b[0m\u001b[0m\n\u001b[1;32m   1974\u001b[0m     \u001b[0mmf\u001b[0m\u001b[0;34m.\u001b[0m\u001b[0mclose\u001b[0m\u001b[0;34m(\u001b[0m\u001b[0;34m)\u001b[0m\u001b[0;34m\u001b[0m\u001b[0;34m\u001b[0m\u001b[0m\n\u001b[0;32m-> 1975\u001b[0;31m     \u001b[0;32mreturn\u001b[0m \u001b[0mmidiFileToStream\u001b[0m\u001b[0;34m(\u001b[0m\u001b[0mmf\u001b[0m\u001b[0;34m,\u001b[0m \u001b[0minputM21\u001b[0m\u001b[0;34m,\u001b[0m \u001b[0;34m**\u001b[0m\u001b[0mkeywords\u001b[0m\u001b[0;34m)\u001b[0m\u001b[0;34m\u001b[0m\u001b[0;34m\u001b[0m\u001b[0m\n\u001b[0m\u001b[1;32m   1976\u001b[0m \u001b[0;34m\u001b[0m\u001b[0m\n\u001b[1;32m   1977\u001b[0m \u001b[0;34m\u001b[0m\u001b[0m\n",
      "\u001b[0;32m~/.conda/envs/myenv/lib/python3.6/site-packages/music21/midi/translate.py\u001b[0m in \u001b[0;36mmidiFileToStream\u001b[0;34m(mf, inputM21, quantizePost, **keywords)\u001b[0m\n\u001b[1;32m   2113\u001b[0m                         \u001b[0mquantizePost\u001b[0m\u001b[0;34m=\u001b[0m\u001b[0mquantizePost\u001b[0m\u001b[0;34m,\u001b[0m\u001b[0;34m\u001b[0m\u001b[0;34m\u001b[0m\u001b[0m\n\u001b[1;32m   2114\u001b[0m                         \u001b[0minputM21\u001b[0m\u001b[0;34m=\u001b[0m\u001b[0ms\u001b[0m\u001b[0;34m,\u001b[0m\u001b[0;34m\u001b[0m\u001b[0;34m\u001b[0m\u001b[0m\n\u001b[0;32m-> 2115\u001b[0;31m                         **keywords)\n\u001b[0m\u001b[1;32m   2116\u001b[0m     \u001b[0;31m# s._setMidiTracks(mf.tracks, mf.ticksPerQuarterNote)\u001b[0m\u001b[0;34m\u001b[0m\u001b[0;34m\u001b[0m\u001b[0;34m\u001b[0m\u001b[0m\n\u001b[1;32m   2117\u001b[0m \u001b[0;34m\u001b[0m\u001b[0m\n",
      "\u001b[0;32m~/.conda/envs/myenv/lib/python3.6/site-packages/music21/midi/translate.py\u001b[0m in \u001b[0;36mmidiTracksToStreams\u001b[0;34m(midiTracks, ticksPerQuarter, quantizePost, inputM21, **keywords)\u001b[0m\n\u001b[1;32m   1887\u001b[0m                               \u001b[0mticksPerQuarter\u001b[0m\u001b[0;34m,\u001b[0m\u001b[0;34m\u001b[0m\u001b[0;34m\u001b[0m\u001b[0m\n\u001b[1;32m   1888\u001b[0m                               \u001b[0mquantizePost\u001b[0m\u001b[0;34m,\u001b[0m\u001b[0;34m\u001b[0m\u001b[0;34m\u001b[0m\u001b[0m\n\u001b[0;32m-> 1889\u001b[0;31m                               inputM21=conductorTrack, **keywords)\n\u001b[0m\u001b[1;32m   1890\u001b[0m     \u001b[0;31m# environLocal.printDebug(['show() conductorTrack elements'])\u001b[0m\u001b[0;34m\u001b[0m\u001b[0;34m\u001b[0m\u001b[0;34m\u001b[0m\u001b[0m\n\u001b[1;32m   1891\u001b[0m     \u001b[0;31m# if we have time sig/key sig elements, add to each part\u001b[0m\u001b[0;34m\u001b[0m\u001b[0;34m\u001b[0m\u001b[0;34m\u001b[0m\u001b[0m\n",
      "\u001b[0;32m~/.conda/envs/myenv/lib/python3.6/site-packages/music21/midi/translate.py\u001b[0m in \u001b[0;36mmidiTrackToStream\u001b[0;34m(mt, ticksPerQuarter, quantizePost, inputM21, **keywords)\u001b[0m\n\u001b[1;32m   1534\u001b[0m                 \u001b[0mmetaEvents\u001b[0m\u001b[0;34m.\u001b[0m\u001b[0mappend\u001b[0m\u001b[0;34m(\u001b[0m\u001b[0;34m[\u001b[0m\u001b[0mt\u001b[0m\u001b[0;34m,\u001b[0m \u001b[0mmidiEventsToKey\u001b[0m\u001b[0;34m(\u001b[0m\u001b[0me\u001b[0m\u001b[0;34m)\u001b[0m\u001b[0;34m]\u001b[0m\u001b[0;34m)\u001b[0m\u001b[0;34m\u001b[0m\u001b[0;34m\u001b[0m\u001b[0m\n\u001b[1;32m   1535\u001b[0m             \u001b[0;32melif\u001b[0m \u001b[0me\u001b[0m\u001b[0;34m.\u001b[0m\u001b[0mtype\u001b[0m \u001b[0;34m==\u001b[0m \u001b[0;34m'SET_TEMPO'\u001b[0m\u001b[0;34m:\u001b[0m\u001b[0;34m\u001b[0m\u001b[0;34m\u001b[0m\u001b[0m\n\u001b[0;32m-> 1536\u001b[0;31m                 \u001b[0mmetaEvents\u001b[0m\u001b[0;34m.\u001b[0m\u001b[0mappend\u001b[0m\u001b[0;34m(\u001b[0m\u001b[0;34m[\u001b[0m\u001b[0mt\u001b[0m\u001b[0;34m,\u001b[0m \u001b[0mmidiEventsToTempo\u001b[0m\u001b[0;34m(\u001b[0m\u001b[0me\u001b[0m\u001b[0;34m)\u001b[0m\u001b[0;34m]\u001b[0m\u001b[0;34m)\u001b[0m\u001b[0;34m\u001b[0m\u001b[0;34m\u001b[0m\u001b[0m\n\u001b[0m\u001b[1;32m   1537\u001b[0m             \u001b[0;32melif\u001b[0m \u001b[0me\u001b[0m\u001b[0;34m.\u001b[0m\u001b[0mtype\u001b[0m \u001b[0;34m==\u001b[0m \u001b[0;34m'INSTRUMENT_NAME'\u001b[0m\u001b[0;34m:\u001b[0m\u001b[0;34m\u001b[0m\u001b[0;34m\u001b[0m\u001b[0m\n\u001b[1;32m   1538\u001b[0m                 \u001b[0;31m# TODO import instrument object\u001b[0m\u001b[0;34m\u001b[0m\u001b[0;34m\u001b[0m\u001b[0;34m\u001b[0m\u001b[0m\n",
      "\u001b[0;32m~/.conda/envs/myenv/lib/python3.6/site-packages/music21/midi/translate.py\u001b[0m in \u001b[0;36mmidiEventsToTempo\u001b[0;34m(eventList)\u001b[0m\n\u001b[1;32m    935\u001b[0m     \u001b[0;31m# post = midiModule.getNumbersAsList(event.data)\u001b[0m\u001b[0;34m\u001b[0m\u001b[0;34m\u001b[0m\u001b[0;34m\u001b[0m\u001b[0m\n\u001b[1;32m    936\u001b[0m     \u001b[0;31m# environLocal.printDebug(['midiEventsToTempo, got bpm', bpm])\u001b[0m\u001b[0;34m\u001b[0m\u001b[0;34m\u001b[0m\u001b[0;34m\u001b[0m\u001b[0m\n\u001b[0;32m--> 937\u001b[0;31m     \u001b[0mmm\u001b[0m \u001b[0;34m=\u001b[0m \u001b[0mtempo\u001b[0m\u001b[0;34m.\u001b[0m\u001b[0mMetronomeMark\u001b[0m\u001b[0;34m(\u001b[0m\u001b[0mnumber\u001b[0m\u001b[0;34m=\u001b[0m\u001b[0mbpm\u001b[0m\u001b[0;34m)\u001b[0m\u001b[0;34m\u001b[0m\u001b[0;34m\u001b[0m\u001b[0m\n\u001b[0m\u001b[1;32m    938\u001b[0m     \u001b[0;32mreturn\u001b[0m \u001b[0mmm\u001b[0m\u001b[0;34m\u001b[0m\u001b[0;34m\u001b[0m\u001b[0m\n\u001b[1;32m    939\u001b[0m \u001b[0;34m\u001b[0m\u001b[0m\n",
      "\u001b[0;32m~/.conda/envs/myenv/lib/python3.6/site-packages/music21/tempo.py\u001b[0m in \u001b[0;36m__init__\u001b[0;34m(self, text, number, referent, parentheses)\u001b[0m\n\u001b[1;32m    402\u001b[0m             \u001b[0;31m# if referent is None, set a default quarter note duration\u001b[0m\u001b[0;34m\u001b[0m\u001b[0;34m\u001b[0m\u001b[0;34m\u001b[0m\u001b[0m\n\u001b[1;32m    403\u001b[0m             \u001b[0mreferent\u001b[0m \u001b[0;34m=\u001b[0m \u001b[0mduration\u001b[0m\u001b[0;34m.\u001b[0m\u001b[0mDuration\u001b[0m\u001b[0;34m(\u001b[0m\u001b[0mtype\u001b[0m\u001b[0;34m=\u001b[0m\u001b[0;34m'quarter'\u001b[0m\u001b[0;34m)\u001b[0m\u001b[0;34m\u001b[0m\u001b[0;34m\u001b[0m\u001b[0m\n\u001b[0;32m--> 404\u001b[0;31m         \u001b[0mself\u001b[0m\u001b[0;34m.\u001b[0m\u001b[0mreferent\u001b[0m \u001b[0;34m=\u001b[0m \u001b[0mreferent\u001b[0m  \u001b[0;31m# use property\u001b[0m\u001b[0;34m\u001b[0m\u001b[0;34m\u001b[0m\u001b[0m\n\u001b[0m\u001b[1;32m    405\u001b[0m \u001b[0;34m\u001b[0m\u001b[0m\n\u001b[1;32m    406\u001b[0m         \u001b[0;31m# set implicit values if necessary\u001b[0m\u001b[0;34m\u001b[0m\u001b[0;34m\u001b[0m\u001b[0;34m\u001b[0m\u001b[0m\n",
      "\u001b[0;31mKeyboardInterrupt\u001b[0m: "
     ]
    }
   ],
   "source": [
    "import joblib\n",
    "from TrajectoryCalculationsWithClass import NewTrajectory\n",
    "from graph_creation import createGrakel, createNX\n",
    "from FirstNotePosition import PlaceFirstNote\n",
    "\n",
    "\n",
    "with open(SCORE_FILE) as f:\n",
    "    # The json SCORE_FILE is a dict of ids from Million Dollar\n",
    "    scores = json.load(f)  \n",
    "for msd_id in tqdm(scores.keys()):\n",
    "    # open every directory with midi files and save file dir to var msd_dir\n",
    "    msd_dir = msd_id_to_dirs(msd_id)\n",
    "    # add the directory to save the graphs\n",
    "    graph_directory =  os.path.join(RESULTS_PATH, \"lmd_graphs\", msd_dir)\n",
    "    if not os.path.exists(graph_directory):\n",
    "        os.makedirs(graph_directory)\n",
    "    # find the label of the piece:\n",
    "#     label = find_genre_label(msd_id)\n",
    "    # search midi files in the directory and create the graphs which we save to graph_directory with the same organisation.\n",
    "    directory = os.path.join(RESULTS_PATH, \"lmd_aligned\", msd_id_to_dirs(msd_id))\n",
    "    for midi_file in os.listdir(directory):\n",
    "        if midi_file.endswith(\".mid\"):\n",
    "            if not os.path.exists(os.path.join(graph_directory, os.path.splitext(midi_file)[0] + \"_graph_T345.p\")):\n",
    "                print(\"lol\")\n",
    "                try:\n",
    "                    s = music21.converter.parse(os.path.join(directory, midi_file))\n",
    "                    chordlist  = get_chords(s)\n",
    "                    # Add descriptors and store from jSymbolic\n",
    "        #             j_stats = jSymbolic_stat(s)\n",
    "        #             pickle.dump(j_stats, open(os.path.join(graph_directory, os.path.splitext(midi_file)[0] + \"_jSymbolic.p\"), \"wb\"))\n",
    "                    # store graphs of Tonnetze\n",
    "                    for key, tonnetz in TONNETZEDICT.items():\n",
    "                        trajectory = NewTrajectory(chordlist, tonnetz, PlaceFirstNote(chordlist, tonnetz))\n",
    "                        graph = createNX(trajectory)\n",
    "                        pickle.dump(graph, open(os.path.join(graph_directory, os.path.splitext(midi_file)[0] + \"_graph_\"+key+\".p\"), \"wb\"))\n",
    "                except Exception as e:\n",
    "                    pass\n",
    "#     break"
   ]
  },
  {
   "cell_type": "markdown",
   "metadata": {},
   "source": [
    "Check what is writen:"
   ]
  },
  {
   "cell_type": "code",
   "execution_count": 7,
   "metadata": {
    "scrolled": true
   },
   "outputs": [
    {
     "name": "stderr",
     "output_type": "stream",
     "text": [
      "  0%|          | 0/31034 [00:00<?, ?it/s]"
     ]
    },
    {
     "name": "stdout",
     "output_type": "stream",
     "text": [
      "['rock', <networkx.classes.graph.Graph object at 0x0000026C87430460>]\n"
     ]
    },
    {
     "name": "stderr",
     "output_type": "stream",
     "text": [
      "\n"
     ]
    }
   ],
   "source": [
    "# with open(SCORE_FILE) as f:\n",
    "    # The json SCORE_FILE is a dict of ids from Million Dollar\n",
    "    scores = json.load(f)  \n",
    "for msd_id in tqdm(scores.keys()):\n",
    "    # open every directory with midi files and save file dir to var msd_dir\n",
    "    msd_dir = msd_id_to_dirs(msd_id)\n",
    "    # add the directory to save the graphs\n",
    "    graph_directory =  os.path.join(RESULTS_PATH, \"lmd_graphs\", msd_dir)\n",
    "    # probably this for should be on the outer shell.\n",
    "    for key, tonnetz in TONNETZEDICT.items():\n",
    "        for file in os.listdir(graph_directory):\n",
    "            if file.endswith(key+\".p\"):\n",
    "                print(pickle.load( open( os.path.join(graph_directory, file), \"rb\" ) ))\n",
    "        break\n",
    "    break\n",
    "    "
   ]
  },
  {
   "cell_type": "markdown",
   "metadata": {},
   "source": [
    "## LABEL MANAGING\n",
    "\n",
    "Here we see how to manipulate file extensions containing labels to other more pliable formats"
   ]
  },
  {
   "cell_type": "code",
   "execution_count": 5,
   "metadata": {},
   "outputs": [],
   "source": [
    "import pandas as pd \n",
    "# Read data from file 'filename.csv' \n",
    "# (in the same directory that your python process is based)\n",
    "# Control delimiters, rows, column names with read_csv (see later) \n",
    "labels = pd.read_csv(LABELS_FILE, sep=';')\n",
    "\n",
    "# transform csv to Dict\n",
    "labelsDict = dict(zip(list(labels.MSD_ID), list(labels.LABEL)))\n",
    "# save Dict as json\n",
    "with open(os.path.join(RESULTS_PATH, 'MAGD.json'), 'w') as f:\n",
    "    json.dump(labelsDict, f)"
   ]
  },
  {
   "cell_type": "markdown",
   "metadata": {},
   "source": [
    "### Trial Classification\n",
    "\n",
    "##### We try a graph kernel method by first reading the Data"
   ]
  },
  {
   "cell_type": "code",
   "execution_count": 4,
   "metadata": {},
   "outputs": [
    {
     "name": "stderr",
     "output_type": "stream",
     "text": [
      "100%|██████████| 31034/31034 [17:46<00:00, 29.10it/s]  \n"
     ]
    }
   ],
   "source": [
    "with open(SCORE_FILE) as f:\n",
    "    # The json SCORE_FILE is a dict of ids from Million Dollar\n",
    "    scores = json.load(f)\n",
    "y = list()\n",
    "G = list()\n",
    "for msd_id in tqdm(scores.keys()):\n",
    "    # open every directory with midi files and save file dir to var msd_dir\n",
    "    msd_dir = msd_id_to_dirs(msd_id)\n",
    "    # add the directory where graphs where saved\n",
    "    graph_directory =  os.path.join(RESULTS_PATH, \"lmd_graphs\", msd_dir)\n",
    "    # first check if the directory isn't empty\n",
    "    if os.listdir(graph_directory):\n",
    "        for file in os.listdir(graph_directory):\n",
    "            if file.endswith(\"T345.p\"):\n",
    "                Gi = pickle.load( open( os.path.join(graph_directory, file), \"rb\" ) )\n",
    "                yi = pickle.load( open( os.path.join(graph_directory, file.split(\"_graph_T345.p\")[0]+ \"_label.p\"), \"rb\" ) )\n",
    "                if yi != None:\n",
    "                    y.append(yi)\n",
    "                    G.append(Gi)"
   ]
  },
  {
   "cell_type": "markdown",
   "metadata": {},
   "source": [
    "After this step we have the the labels together with the graph on the selected Tonnetz, i.e. *T345*. We can now do the classification as usual.\n"
   ]
  },
  {
   "cell_type": "code",
   "execution_count": 5,
   "metadata": {
    "scrolled": true
   },
   "outputs": [
    {
     "name": "stdout",
     "output_type": "stream",
     "text": [
      "We have 17489 labels\n",
      "and 17489 graphs\n",
      "classic has occurred 1111 times\n",
      "rock has occurred 6468 times\n",
      "pop has occurred 4714 times\n",
      "folk has occurred 413 times\n",
      "metal has occurred 524 times\n",
      "jazz has occurred 1917 times\n",
      "disco has occurred 1118 times\n",
      "other has occurred 1224 times\n"
     ]
    }
   ],
   "source": [
    "print(\"We have\", len(y), \"labels\")\n",
    "print(\"and\", len(G), \"graphs\")\n",
    "\n",
    "for label in LABELS+[\"other\"]:\n",
    "    print('{} has occurred {} times'.format(label, y.count(label)) )"
   ]
  },
  {
   "cell_type": "code",
   "execution_count": 6,
   "metadata": {},
   "outputs": [
    {
     "name": "stderr",
     "output_type": "stream",
     "text": [
      "/cal/homes/karystinaios/.conda/envs/myenv/lib/python3.6/site-packages/sklearn/utils/deprecation.py:143: FutureWarning: The sklearn.datasets.lfw module is  deprecated in version 0.22 and will be removed in version 0.24. The corresponding classes / functions should instead be imported from sklearn.datasets. Anything that cannot be imported from sklearn.datasets is now part of the private API.\n",
      "  warnings.warn(message, FutureWarning)\n"
     ]
    }
   ],
   "source": [
    "from sklearn.model_selection import train_test_split\n",
    "from grakel.utils import graph_from_networkx\n",
    "\n",
    "# Transform networkx graphs to grakel representations\n",
    "G = list(graph_from_networkx(G, node_labels_tag='note'))\n",
    "\n",
    "# Splits the dataset into a training and a test set\n",
    "G_train, G_test, y_train, y_test = train_test_split(G, y, test_size=0.3, shuffle=True, stratify=y)"
   ]
  },
  {
   "cell_type": "code",
   "execution_count": 7,
   "metadata": {},
   "outputs": [
    {
     "name": "stdout",
     "output_type": "stream",
     "text": [
      "Accuracy: 51.72%\n"
     ]
    }
   ],
   "source": [
    "from grakel.kernels import WeisfeilerLehman, GraphletSampling\n",
    "from sklearn.svm import SVC\n",
    "from sklearn.metrics import accuracy_score\n",
    "\n",
    "\n",
    "# Uses the WEisfeilerLehman kernel to generate the kernel matrices\n",
    "gk = WeisfeilerLehman(n_iter=4, normalize=True)\n",
    "K_train = gk.fit_transform(G_train)\n",
    "K_test = gk.transform(G_test)\n",
    "\n",
    "# Uses the SVM classifier to perform classification\n",
    "clf = SVC(kernel=\"precomputed\")\n",
    "clf.fit(K_train, y_train)\n",
    "y_pred = clf.predict(K_test)\n",
    "\n",
    "# Computes and prints the classification accuracy\n",
    "acc = accuracy_score(y_test, y_pred)\n",
    "print(\"Accuracy:\", str(round(acc*100, 2)) + \"%\")"
   ]
  },
  {
   "cell_type": "markdown",
   "metadata": {},
   "source": [
    "### Compute Classification Metrics"
   ]
  },
  {
   "cell_type": "code",
   "execution_count": 22,
   "metadata": {},
   "outputs": [
    {
     "data": {
      "image/png": "[encoded data removed]",
      "text/plain": [
       "<Figure size 432x288 with 2 Axes>"
      ]
     },
     "metadata": {
      "needs_background": "light"
     },
     "output_type": "display_data"
    }
   ],
   "source": [
    "from sklearn.metrics import plot_confusion_matrix\n",
    "from sklearn.metrics import roc_auc_score\n",
    "\n",
    "clf_conf = plot_confusion_matrix(clf, K_test, y_test)"
   ]
  },
  {
   "cell_type": "markdown",
   "metadata": {},
   "source": [
    "### Plot Learning Curve"
   ]
  },
  {
   "cell_type": "markdown",
   "metadata": {},
   "source": [
    "# Classification via merging disconnected subgraphs into a Big Graph.\n",
    "\n",
    "Taking the disjoint union for all graphs per datapoint merging in a single big graph for classification via kernels."
   ]
  },
  {
   "cell_type": "code",
   "execution_count": 7,
   "metadata": {
    "scrolled": true
   },
   "outputs": [
    {
     "name": "stderr",
     "output_type": "stream",
     "text": [
      "100%|██████████| 31034/31034 [06:47<00:00, 76.09it/s] \n"
     ]
    }
   ],
   "source": [
    "import networkx as nx\n",
    "\n",
    "with open(SCORE_FILE) as f:\n",
    "    # The json SCORE_FILE is a dict of ids from Million Dollar\n",
    "    scores = json.load(f)\n",
    "y = list()\n",
    "Gi = dict()\n",
    "G = list()\n",
    "for msd_id in tqdm(scores.keys()):\n",
    "    # open every directory with midi files and save file dir to var msd_dir\n",
    "    msd_dir = msd_id_to_dirs(msd_id)\n",
    "    # add the directory where graphs where saved\n",
    "    graph_directory =  os.path.join(RESULTS_PATH, \"lmd_graphs\", msd_dir)\n",
    "    # first check if the directory isn't empty\n",
    "    if os.listdir(graph_directory):\n",
    "        IsGraphDir = False\n",
    "        for key, tonnetz in TONNETZEDICT.items():\n",
    "            for file in os.listdir(graph_directory):\n",
    "                if file.endswith(key +\".p\"):\n",
    "                    Gi[key] = pickle.load( open( os.path.join(graph_directory, file), \"rb\" ) )\n",
    "                    yi = pickle.load( open( os.path.join(graph_directory, file.split(\"_graph_\" +key+\".p\")[0]+ \"_label.p\"), \"rb\" ) )\n",
    "                    IsGraphDir = True\n",
    "        # the disjoint union of graphs (have to chek if a graph exists)\n",
    "        if IsGraphDir:\n",
    "            U = nx.disjoint_union(Gi[\"T345\"], nx.disjoint_union(Gi[\"T129\"], nx.disjoint_union(Gi[\"T237\"], Gi[\"T147\"])))\n",
    "            G.append(U)\n",
    "            y.append(yi)"
   ]
  },
  {
   "cell_type": "code",
   "execution_count": 8,
   "metadata": {},
   "outputs": [
    {
     "name": "stdout",
     "output_type": "stream",
     "text": [
      "We have 4538 labels\n",
      "and 4538 graphs\n",
      "classic has occurred 319 times\n",
      "rock has occurred 1682 times\n",
      "pop has occurred 1291 times\n",
      "folk has occurred 72 times\n",
      "metal has occurred 203 times\n",
      "jazz has occurred 349 times\n",
      "disco has occurred 347 times\n",
      "other has occurred 275 times\n"
     ]
    }
   ],
   "source": [
    "print(\"We have\", len(y), \"labels\")\n",
    "print(\"and\", len(G), \"graphs\")\n",
    "\n",
    "for label in LABELS+[\"other\"]:\n",
    "    print('{} has occurred {} times'.format(label, y.count(label)) )"
   ]
  },
  {
   "cell_type": "markdown",
   "metadata": {},
   "source": [
    "Perform The Classification"
   ]
  },
  {
   "cell_type": "code",
   "execution_count": 9,
   "metadata": {},
   "outputs": [
    {
     "name": "stderr",
     "output_type": "stream",
     "text": [
      "/cal/homes/karystinaios/.conda/envs/myenv/lib/python3.6/site-packages/sklearn/utils/deprecation.py:143: FutureWarning: The sklearn.datasets.lfw module is  deprecated in version 0.22 and will be removed in version 0.24. The corresponding classes / functions should instead be imported from sklearn.datasets. Anything that cannot be imported from sklearn.datasets is now part of the private API.\n",
      "  warnings.warn(message, FutureWarning)\n"
     ]
    }
   ],
   "source": [
    "from sklearn.model_selection import train_test_split\n",
    "from grakel.utils import graph_from_networkx\n",
    "\n",
    "# Transform networkx graphs to grakel representations\n",
    "G = list(graph_from_networkx(G, node_labels_tag='note'))\n",
    "\n",
    "# Splits the dataset into a training and a test set\n",
    "G_train, G_test, y_train, y_test = train_test_split(G, y, test_size=0.3, shuffle=True, stratify=y)"
   ]
  },
  {
   "cell_type": "code",
   "execution_count": 12,
   "metadata": {},
   "outputs": [
    {
     "name": "stdout",
     "output_type": "stream",
     "text": [
      "Accuracy: 37.3%\n"
     ]
    }
   ],
   "source": [
    "from grakel.kernels import WeisfeilerLehman, GraphletSampling\n",
    "from sklearn.svm import SVC\n",
    "from sklearn.metrics import accuracy_score\n",
    "\n",
    "\n",
    "# Uses the WEisfeilerLehman kernel to generate the kernel matrices\n",
    "gk = WeisfeilerLehman(n_iter=4, normalize=True)\n",
    "K_train = gk.fit_transform(G_train)\n",
    "K_test = gk.transform(G_test)\n",
    "\n",
    "# Uses the SVM classifier to perform classification\n",
    "clf = SVC(kernel=\"precomputed\")\n",
    "clf.fit(K_train, y_train)\n",
    "y_pred = clf.predict(K_test)\n",
    "\n",
    "# Computes and prints the classification accuracy\n",
    "acc = accuracy_score(y_test, y_pred)\n",
    "print(\"Accuracy:\", str(round(acc*100, 2)) + \"%\")"
   ]
  },
  {
   "cell_type": "markdown",
   "metadata": {},
   "source": [
    "### Classification via Boosting\n",
    "\n",
    "In this section we apply the simple classification for every graph and the descriptors retrieved from the HMD5 files seperately and then we combine the results with a boosting learning algorithm."
   ]
  },
  {
   "cell_type": "code",
   "execution_count": 13,
   "metadata": {
    "scrolled": false
   },
   "outputs": [
    {
     "name": "stderr",
     "output_type": "stream",
     "text": [
      "100%|██████████| 31034/31034 [06:13<00:00, 83.03it/s]  \n"
     ]
    }
   ],
   "source": [
    "with open(SCORE_FILE) as f:\n",
    "    # The json SCORE_FILE is a dict of ids from Million Dollar\n",
    "    scores = json.load(f)\n",
    "y = { k : list() for k in TONNETZEDICT.keys()}\n",
    "G = { k : list() for k in TONNETZEDICT.keys()}\n",
    "for msd_id in tqdm(scores.keys()):\n",
    "    # open every directory with midi files and save file dir to var msd_dir\n",
    "    msd_dir = msd_id_to_dirs(msd_id)\n",
    "    # add the directory where graphs where saved\n",
    "    graph_directory =  os.path.join(RESULTS_PATH, \"lmd_graphs\", msd_dir)\n",
    "    # first check if the directory isn't empty\n",
    "    if os.listdir(graph_directory):\n",
    "        for key, tonnetz in TONNETZEDICT.items():\n",
    "            for file in os.listdir(graph_directory):\n",
    "                if file.endswith(key +\".p\"):\n",
    "                    Gi = pickle.load( open( os.path.join(graph_directory, file), \"rb\" ) )\n",
    "                    yi = pickle.load( open( os.path.join(graph_directory, file.split(\"_graph_\" +key+\".p\")[0]+ \"_label.p\"), \"rb\" ) )\n",
    "                    y[key].append(yi)\n",
    "                    G[key].append(Gi)"
   ]
  },
  {
   "cell_type": "code",
   "execution_count": 14,
   "metadata": {
    "scrolled": true
   },
   "outputs": [
    {
     "name": "stdout",
     "output_type": "stream",
     "text": [
      "We have 17489 labels\n",
      "and 17489 graphs\n",
      "classic has occurred 1111 times\n",
      "rock has occurred 6469 times\n",
      "pop has occurred 4714 times\n",
      "folk has occurred 413 times\n",
      "metal has occurred 524 times\n",
      "jazz has occurred 1917 times\n",
      "disco has occurred 1118 times\n",
      "other has occurred 1224 times\n"
     ]
    }
   ],
   "source": [
    "print(\"We have\", len(y[\"T345\"]), \"labels\")\n",
    "print(\"and\", len(G[\"T345\"]), \"graphs\")\n",
    "\n",
    "for label in LABELS+[\"other\"]:\n",
    "    print('{} has occurred {} times'.format(label, y[\"T147\"].count(label)) )"
   ]
  },
  {
   "cell_type": "code",
   "execution_count": 30,
   "metadata": {},
   "outputs": [
    {
     "data": {
      "text/plain": [
       "17490"
      ]
     },
     "execution_count": 30,
     "metadata": {},
     "output_type": "execute_result"
    }
   ],
   "source": [
    "len(y['T129'])"
   ]
  },
  {
   "cell_type": "code",
   "execution_count": 32,
   "metadata": {
    "scrolled": false
   },
   "outputs": [
    {
     "ename": "AttributeError",
     "evalue": "'list' object has no attribute 'nodes'",
     "output_type": "error",
     "traceback": [
      "\u001b[0;31m---------------------------------------------------------------------------\u001b[0m",
      "\u001b[0;31mAttributeError\u001b[0m                            Traceback (most recent call last)",
      "\u001b[0;32m<ipython-input-32-5a8d6517872d>\u001b[0m in \u001b[0;36m<module>\u001b[0;34m\u001b[0m\n\u001b[1;32m     12\u001b[0m \u001b[0;32mfor\u001b[0m \u001b[0mkey\u001b[0m \u001b[0;32min\u001b[0m \u001b[0mTONNETZEDICT\u001b[0m\u001b[0;34m.\u001b[0m\u001b[0mkeys\u001b[0m\u001b[0;34m(\u001b[0m\u001b[0;34m)\u001b[0m\u001b[0;34m:\u001b[0m\u001b[0;34m\u001b[0m\u001b[0;34m\u001b[0m\u001b[0m\n\u001b[1;32m     13\u001b[0m     \u001b[0;31m# Transform networkx graphs to grakel representations\u001b[0m\u001b[0;34m\u001b[0m\u001b[0;34m\u001b[0m\u001b[0;34m\u001b[0m\u001b[0m\n\u001b[0;32m---> 14\u001b[0;31m     \u001b[0mG\u001b[0m\u001b[0;34m[\u001b[0m\u001b[0mkey\u001b[0m\u001b[0;34m]\u001b[0m \u001b[0;34m=\u001b[0m \u001b[0mlist\u001b[0m\u001b[0;34m(\u001b[0m\u001b[0mgraph_from_networkx\u001b[0m\u001b[0;34m(\u001b[0m\u001b[0mG\u001b[0m\u001b[0;34m[\u001b[0m\u001b[0mkey\u001b[0m\u001b[0;34m]\u001b[0m\u001b[0;34m,\u001b[0m \u001b[0mnode_labels_tag\u001b[0m\u001b[0;34m=\u001b[0m\u001b[0;34m'note'\u001b[0m\u001b[0;34m)\u001b[0m\u001b[0;34m)\u001b[0m\u001b[0;34m\u001b[0m\u001b[0;34m\u001b[0m\u001b[0m\n\u001b[0m\u001b[1;32m     15\u001b[0m     \u001b[0;31m# do not shuffle the split\u001b[0m\u001b[0;34m\u001b[0m\u001b[0;34m\u001b[0m\u001b[0;34m\u001b[0m\u001b[0m\n\u001b[1;32m     16\u001b[0m     \u001b[0mG_train\u001b[0m\u001b[0;34m[\u001b[0m\u001b[0mkey\u001b[0m\u001b[0;34m]\u001b[0m\u001b[0;34m,\u001b[0m \u001b[0mG_test\u001b[0m\u001b[0;34m[\u001b[0m\u001b[0mkey\u001b[0m\u001b[0;34m]\u001b[0m\u001b[0;34m,\u001b[0m \u001b[0my_train\u001b[0m\u001b[0;34m,\u001b[0m \u001b[0my_test\u001b[0m \u001b[0;34m=\u001b[0m \u001b[0mtrain_test_split\u001b[0m\u001b[0;34m(\u001b[0m\u001b[0mG\u001b[0m\u001b[0;34m[\u001b[0m\u001b[0mkey\u001b[0m\u001b[0;34m]\u001b[0m\u001b[0;34m,\u001b[0m \u001b[0my\u001b[0m\u001b[0;34m[\u001b[0m\u001b[0mkey\u001b[0m\u001b[0;34m]\u001b[0m\u001b[0;34m,\u001b[0m \u001b[0mtest_size\u001b[0m\u001b[0;34m=\u001b[0m\u001b[0;36m0.3\u001b[0m\u001b[0;34m,\u001b[0m \u001b[0mshuffle\u001b[0m\u001b[0;34m=\u001b[0m\u001b[0;32mTrue\u001b[0m\u001b[0;34m,\u001b[0m \u001b[0mstratify\u001b[0m\u001b[0;34m=\u001b[0m\u001b[0my\u001b[0m\u001b[0;34m)\u001b[0m\u001b[0;34m\u001b[0m\u001b[0;34m\u001b[0m\u001b[0m\n",
      "\u001b[0;32m~/.conda/envs/myenv/lib/python3.6/site-packages/grakel-0.1b7-py3.6-linux-x86_64.egg/grakel/utils.py\u001b[0m in \u001b[0;36mgraph_from_networkx\u001b[0;34m(X, node_labels_tag, edge_labels_tag, edge_weight_tag, as_Graph)\u001b[0m\n\u001b[1;32m    326\u001b[0m         \u001b[0mnl\u001b[0m \u001b[0;34m=\u001b[0m \u001b[0mnodel_init\u001b[0m\u001b[0;34m(\u001b[0m\u001b[0;34m)\u001b[0m\u001b[0;34m\u001b[0m\u001b[0;34m\u001b[0m\u001b[0m\n\u001b[1;32m    327\u001b[0m         \u001b[0mel\u001b[0m \u001b[0;34m=\u001b[0m \u001b[0medgel_init\u001b[0m\u001b[0;34m(\u001b[0m\u001b[0;34m)\u001b[0m\u001b[0;34m\u001b[0m\u001b[0;34m\u001b[0m\u001b[0m\n\u001b[0;32m--> 328\u001b[0;31m         \u001b[0mnodes\u001b[0m\u001b[0;34m,\u001b[0m \u001b[0medges\u001b[0m \u001b[0;34m=\u001b[0m \u001b[0mtake_ne\u001b[0m\u001b[0;34m(\u001b[0m\u001b[0mG\u001b[0m\u001b[0;34m)\u001b[0m\u001b[0;34m\u001b[0m\u001b[0;34m\u001b[0m\u001b[0m\n\u001b[0m\u001b[1;32m    329\u001b[0m         \u001b[0;32mfor\u001b[0m \u001b[0mu\u001b[0m \u001b[0;32min\u001b[0m \u001b[0mG\u001b[0m\u001b[0;34m.\u001b[0m\u001b[0mnodes\u001b[0m\u001b[0;34m(\u001b[0m\u001b[0;34m)\u001b[0m\u001b[0;34m:\u001b[0m\u001b[0;34m\u001b[0m\u001b[0;34m\u001b[0m\u001b[0m\n\u001b[1;32m    330\u001b[0m             \u001b[0mgraph_object\u001b[0m\u001b[0;34m[\u001b[0m\u001b[0mu\u001b[0m\u001b[0;34m]\u001b[0m \u001b[0;34m=\u001b[0m \u001b[0mdict\u001b[0m\u001b[0;34m(\u001b[0m\u001b[0;34m)\u001b[0m\u001b[0;34m\u001b[0m\u001b[0;34m\u001b[0m\u001b[0m\n",
      "\u001b[0;32m~/.conda/envs/myenv/lib/python3.6/site-packages/grakel-0.1b7-py3.6-linux-x86_64.egg/grakel/utils.py\u001b[0m in \u001b[0;36mtake_ne\u001b[0;34m(graph)\u001b[0m\n\u001b[1;32m    317\u001b[0m     \u001b[0;32mif\u001b[0m \u001b[0mv2\u001b[0m\u001b[0;34m:\u001b[0m\u001b[0;34m\u001b[0m\u001b[0;34m\u001b[0m\u001b[0m\n\u001b[1;32m    318\u001b[0m         \u001b[0;32mdef\u001b[0m \u001b[0mtake_ne\u001b[0m\u001b[0;34m(\u001b[0m\u001b[0mgraph\u001b[0m\u001b[0;34m)\u001b[0m\u001b[0;34m:\u001b[0m\u001b[0;34m\u001b[0m\u001b[0;34m\u001b[0m\u001b[0m\n\u001b[0;32m--> 319\u001b[0;31m             \u001b[0;32mreturn\u001b[0m \u001b[0mgraph\u001b[0m\u001b[0;34m.\u001b[0m\u001b[0mnodes\u001b[0m\u001b[0;34m,\u001b[0m \u001b[0mgraph\u001b[0m\u001b[0;34m.\u001b[0m\u001b[0medges\u001b[0m\u001b[0;34m\u001b[0m\u001b[0;34m\u001b[0m\u001b[0m\n\u001b[0m\u001b[1;32m    320\u001b[0m     \u001b[0;32melse\u001b[0m\u001b[0;34m:\u001b[0m\u001b[0;34m\u001b[0m\u001b[0;34m\u001b[0m\u001b[0m\n\u001b[1;32m    321\u001b[0m         \u001b[0;32mdef\u001b[0m \u001b[0mtake_ne\u001b[0m\u001b[0;34m(\u001b[0m\u001b[0mgraph\u001b[0m\u001b[0;34m)\u001b[0m\u001b[0;34m:\u001b[0m\u001b[0;34m\u001b[0m\u001b[0;34m\u001b[0m\u001b[0m\n",
      "\u001b[0;31mAttributeError\u001b[0m: 'list' object has no attribute 'nodes'"
     ]
    }
   ],
   "source": [
    "from sklearn.model_selection import train_test_split\n",
    "from grakel.kernels import WeisfeilerLehman, GraphletSampling\n",
    "from sklearn.svm import SVC\n",
    "\n",
    "G_train = dict()\n",
    "G_test = dict()\n",
    "K_train = dict() \n",
    "K_test = dict()\n",
    "clf = dict()\n",
    "y_pred = dict()\n",
    "\n",
    "for key in TONNETZEDICT.keys():  \n",
    "    # Transform networkx graphs to grakel representations\n",
    "    G[key] = list(graph_from_networkx(G[key], node_labels_tag='note'))\n",
    "    # do not shuffle the split\n",
    "    G_train[key], G_test[key], y_train, y_test = train_test_split(G[key], y[key], test_size=0.3, shuffle=False, stratify=y)\n",
    "    gk = WeisfeilerLehman(n_iter=1, normalize=True)\n",
    "    K_train[key] = gk.fit_transform(G_train[key])\n",
    "    K_test[key] = gk.transform(G_test[key])\n",
    "    y_pred[key] = clf[key].predict(K_test[key])"
   ]
  },
  {
   "cell_type": "markdown",
   "metadata": {},
   "source": []
  }
 ],
 "metadata": {
  "kernelspec": {
   "display_name": "Python 3",
   "language": "python",
   "name": "python3"
  },
  "language_info": {
   "codemirror_mode": {
    "name": "ipython",
    "version": 3
   },
   "file_extension": ".py",
   "mimetype": "text/x-python",
   "name": "python",
   "nbconvert_exporter": "python",
   "pygments_lexer": "ipython3",
   "version": "3.8.2"
  }
 },
 "nbformat": 4,
 "nbformat_minor": 4
}
